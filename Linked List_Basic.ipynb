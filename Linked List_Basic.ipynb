{
 "cells": [
  {
   "cell_type": "code",
   "execution_count": null,
   "id": "0d498657",
   "metadata": {},
   "outputs": [],
   "source": [
    "# 구조 자체는 간단한데 구현이 복잡\n",
    "# 연결 리스트라고도 불림\n",
    "# 배열은 미리 특정한 연결된 공간에 데이터를 쓰고 읽는 구조이지만, 링크드 리스트는 미리 예약하지 않고 필요할 때마다 데이터를 추가하는 구조\n",
    "# 일종의 배열의 단점을 극복한 것\n",
    "\n",
    "# 배열과 달리 데이터를 저장할 때 다음 데이터가 나올 공간을 가리키는 포인터가 같이 저장됨\n",
    "# 즉 데이터 + 다음 데이터의 주소값이 하나의 묶음 (하나의 묶음 당 노드라고 불림)"
   ]
  }
 ],
 "metadata": {
  "kernelspec": {
   "display_name": "Python 3 (ipykernel)",
   "language": "python",
   "name": "python3"
  },
  "language_info": {
   "codemirror_mode": {
    "name": "ipython",
    "version": 3
   },
   "file_extension": ".py",
   "mimetype": "text/x-python",
   "name": "python",
   "nbconvert_exporter": "python",
   "pygments_lexer": "ipython3",
   "version": "3.9.13"
  }
 },
 "nbformat": 4,
 "nbformat_minor": 5
}
