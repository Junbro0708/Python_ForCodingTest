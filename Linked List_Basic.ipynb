{
 "cells": [
  {
   "cell_type": "code",
   "execution_count": null,
   "id": "0d498657",
   "metadata": {},
   "outputs": [],
   "source": [
    "# 구조 자체는 간단한데 구현이 복잡\n",
    "# 연결 리스트라고도 불림\n",
    "# 배열은 미리 특정한 연결된 공간에 데이터를 쓰고 읽는 구조이지만, 링크드 리스트는 미리 예약하지 않고 필요할 때마다 데이터를 추가하는 구조\n",
    "# 일종의 배열의 단점을 극복한 것\n",
    "\n",
    "# 배열과 달리 데이터를 저장할 때 다음 데이터가 나올 공간을 가리키는 포인터가 같이 저장됨\n",
    "# 즉 데이터 + 다음 데이터의 주소값이 하나의 묶음 (하나의 묶음 당 노드라고 불림)"
   ]
  },
  {
   "cell_type": "code",
   "execution_count": null,
   "id": "f85b1e54",
   "metadata": {},
   "outputs": [],
   "source": [
    "# class Node:\n",
    "#     def __init__(self, data):\n",
    "#         self.data = data\n",
    "#         self.next = None"
   ]
  },
  {
   "cell_type": "code",
   "execution_count": 10,
   "id": "c1e760d0",
   "metadata": {},
   "outputs": [],
   "source": [
    "# 위에 발전\n",
    "class Node:\n",
    "    def __init__(self, data, next=None):\n",
    "        self.data = data\n",
    "        self.next = next"
   ]
  },
  {
   "cell_type": "code",
   "execution_count": 12,
   "id": "51b9c543",
   "metadata": {},
   "outputs": [
    {
     "name": "stdout",
     "output_type": "stream",
     "text": [
      "<__main__.Node object at 0x7f8110bb1bb0>\n",
      "<__main__.Node object at 0x7f8110bb1070>\n"
     ]
    }
   ],
   "source": [
    "node1 = Node(1)\n",
    "node2 = Node(2)\n",
    "print(node1)\n",
    "print(node2)\n",
    "node1.next = node2"
   ]
  },
  {
   "cell_type": "code",
   "execution_count": 16,
   "id": "f381c8a4",
   "metadata": {},
   "outputs": [
    {
     "data": {
      "text/plain": [
       "<__main__.Node at 0x7f8110bb1bb0>"
      ]
     },
     "execution_count": 16,
     "metadata": {},
     "output_type": "execute_result"
    }
   ],
   "source": [
    "head = node1\n",
    "head"
   ]
  },
  {
   "cell_type": "markdown",
   "id": "80068d48",
   "metadata": {},
   "source": [
    "## 연결 리스트 데이터 추가"
   ]
  },
  {
   "cell_type": "code",
   "execution_count": 21,
   "id": "c8af1762",
   "metadata": {},
   "outputs": [],
   "source": [
    "class Node:\n",
    "    def __init__(self, data, next=None):\n",
    "        self.data = data\n",
    "        self.next = next\n",
    "    \n",
    "def add(data):\n",
    "    node = head\n",
    "    while node.next:\n",
    "        node = node.next\n",
    "    node.next = Node(data)"
   ]
  },
  {
   "cell_type": "code",
   "execution_count": 22,
   "id": "1ed15e33",
   "metadata": {},
   "outputs": [],
   "source": [
    "for index in range(3, 11):\n",
    "    add(index)"
   ]
  },
  {
   "cell_type": "code",
   "execution_count": 23,
   "id": "7a923a62",
   "metadata": {},
   "outputs": [
    {
     "name": "stdout",
     "output_type": "stream",
     "text": [
      "1\n",
      "2\n",
      "3\n",
      "4\n",
      "5\n",
      "6\n",
      "7\n",
      "8\n",
      "9\n"
     ]
    }
   ],
   "source": [
    "node = head\n",
    "while node.next:\n",
    "    print(node.data)\n",
    "    node = node.next"
   ]
  }
 ],
 "metadata": {
  "kernelspec": {
   "display_name": "Python 3 (ipykernel)",
   "language": "python",
   "name": "python3"
  },
  "language_info": {
   "codemirror_mode": {
    "name": "ipython",
    "version": 3
   },
   "file_extension": ".py",
   "mimetype": "text/x-python",
   "name": "python",
   "nbconvert_exporter": "python",
   "pygments_lexer": "ipython3",
   "version": "3.9.13"
  }
 },
 "nbformat": 4,
 "nbformat_minor": 5
}
