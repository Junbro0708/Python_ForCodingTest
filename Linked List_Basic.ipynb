{
 "cells": [
  {
   "cell_type": "code",
   "execution_count": null,
   "id": "0d498657",
   "metadata": {},
   "outputs": [],
   "source": [
    "# 구조 자체는 간단한데 구현이 복잡\n",
    "# 연결 리스트라고도 불림\n",
    "# 배열은 미리 특정한 연결된 공간에 데이터를 쓰고 읽는 구조이지만, 링크드 리스트는 미리 예약하지 않고 필요할 때마다 데이터를 추가하는 구조\n",
    "# 일종의 배열의 단점을 극복한 것\n",
    "\n",
    "# 배열과 달리 데이터를 저장할 때 다음 데이터가 나올 공간을 가리키는 포인터가 같이 저장됨\n",
    "# 즉 데이터 + 다음 데이터의 주소값이 하나의 묶음 (하나의 묶음 당 노드라고 불림)"
   ]
  },
  {
   "cell_type": "code",
   "execution_count": null,
   "id": "f85b1e54",
   "metadata": {},
   "outputs": [],
   "source": [
    "# class Node:\n",
    "#     def __init__(self, data):\n",
    "#         self.data = data\n",
    "#         self.next = None"
   ]
  },
  {
   "cell_type": "code",
   "execution_count": 4,
   "id": "c1e760d0",
   "metadata": {},
   "outputs": [],
   "source": [
    "# 위에 발전\n",
    "class Node:\n",
    "    def __init__(self, data, next=None):\n",
    "        self.data = data\n",
    "        self.next = next"
   ]
  },
  {
   "cell_type": "code",
   "execution_count": 5,
   "id": "51b9c543",
   "metadata": {},
   "outputs": [
    {
     "name": "stdout",
     "output_type": "stream",
     "text": [
      "<__main__.Node object at 0x7fccc8daf3d0>\n",
      "<__main__.Node object at 0x7fccc8dafbb0>\n"
     ]
    }
   ],
   "source": [
    "node1 = Node(1)\n",
    "node2 = Node(2)\n",
    "print(node1)\n",
    "print(node2)\n",
    "node1.next = node2"
   ]
  },
  {
   "cell_type": "code",
   "execution_count": 16,
   "id": "f381c8a4",
   "metadata": {},
   "outputs": [
    {
     "data": {
      "text/plain": [
       "<__main__.Node at 0x7f8110bb1bb0>"
      ]
     },
     "execution_count": 16,
     "metadata": {},
     "output_type": "execute_result"
    }
   ],
   "source": [
    "head = node1\n",
    "head"
   ]
  },
  {
   "cell_type": "markdown",
   "id": "80068d48",
   "metadata": {},
   "source": [
    "## 연결 리스트 데이터 추가"
   ]
  },
  {
   "cell_type": "code",
   "execution_count": 8,
   "id": "c8af1762",
   "metadata": {},
   "outputs": [],
   "source": [
    "class Node:\n",
    "    def __init__(self, data, next=None):\n",
    "        self.data = data\n",
    "        self.next = next\n",
    "    \n",
    "def add(data):\n",
    "    node = head\n",
    "    while node.next:\n",
    "        node = node.next\n",
    "    node.next = Node(data)"
   ]
  },
  {
   "cell_type": "markdown",
   "id": "2f63d074",
   "metadata": {},
   "source": [
    "## 연결 리스트의 장점\n",
    "- 미리 데이터 공간을 할당하지 않아도 됨 (배열은 미리 할당해야함)\n",
    "\n",
    "## 연결 리스트의 단점\n",
    "- 배열은 데이터를 저장할 공간만 필요하지만, 연결리스트는 주소까지 포함해야해서 별도의 데이터 공간이 필요함 (저장 효율이 높지 않음)\n",
    "- 배열은 인덱스 번호가 있지만, 연결 리스트는 처음 데이터부터 다음 데이터를 찾고 이를 반복해야함 (데이터 접근 속도가 느림)\n",
    "- 중간 데이터 삭제 시, 데이터 연결을 재구성 해야함"
   ]
  },
  {
   "cell_type": "markdown",
   "id": "25151fa2",
   "metadata": {},
   "source": [
    "## 연결 리스트 노드와 노드 사이에 데이터를 추가하는 방법"
   ]
  },
  {
   "cell_type": "code",
   "execution_count": 13,
   "id": "b7a56878",
   "metadata": {},
   "outputs": [
    {
     "name": "stdout",
     "output_type": "stream",
     "text": [
      "1\n",
      "1.5\n",
      "2\n",
      "3\n",
      "4\n",
      "5\n",
      "6\n",
      "7\n",
      "8\n",
      "9\n",
      "10\n",
      "3\n",
      "4\n",
      "5\n",
      "6\n",
      "7\n",
      "8\n",
      "9\n",
      "10\n",
      "3\n",
      "4\n",
      "5\n",
      "6\n",
      "7\n",
      "8\n",
      "9\n"
     ]
    }
   ],
   "source": [
    "for index in range(3, 11):\n",
    "    add(index)\n",
    "\n",
    "head = node1\n",
    "\n",
    "node = head\n",
    "while node.next:\n",
    "    print(node.data)\n",
    "    node = node.next"
   ]
  },
  {
   "cell_type": "code",
   "execution_count": 11,
   "id": "f239f794",
   "metadata": {},
   "outputs": [],
   "source": [
    "node3 = Node(1.5)\n",
    "\n",
    "node = head\n",
    "search = True\n",
    "while search:\n",
    "    if node.data == 1:\n",
    "        search = False\n",
    "    else:\n",
    "        node = node.next\n",
    "        \n",
    "node_next = node.next\n",
    "node.next = node3\n",
    "node3.next = node_next"
   ]
  },
  {
   "cell_type": "markdown",
   "id": "50b368b1",
   "metadata": {},
   "source": [
    "# 객체지향으로 연결 리스트 만들기"
   ]
  },
  {
   "cell_type": "code",
   "execution_count": 21,
   "id": "f9a06d34",
   "metadata": {},
   "outputs": [],
   "source": [
    "class Node:\n",
    "    def __init__(self, data, next=None):\n",
    "        self.data = data\n",
    "        self.next = next\n",
    "\n",
    "class NodeMgmt: # Node Management\n",
    "    def __init__(self, data):\n",
    "        self.head = Node(data)\n",
    "        \n",
    "    def add(self, data):\n",
    "        if self.head == '':\n",
    "            self.head = Node(data)\n",
    "        else:\n",
    "            node = self.head\n",
    "            while node.next:\n",
    "                node = node.next\n",
    "            node.next = Node(data)\n",
    "            \n",
    "    def desc(self):\n",
    "        node = self.head\n",
    "        while node:\n",
    "            print(node.data)\n",
    "            node = node.next"
   ]
  },
  {
   "cell_type": "code",
   "execution_count": 22,
   "id": "a1598669",
   "metadata": {},
   "outputs": [
    {
     "name": "stdout",
     "output_type": "stream",
     "text": [
      "0\n"
     ]
    }
   ],
   "source": [
    "data1 = NodeMgmt(0)\n",
    "data1.desc()"
   ]
  },
  {
   "cell_type": "code",
   "execution_count": 23,
   "id": "0bf9e77f",
   "metadata": {},
   "outputs": [],
   "source": [
    "data1.add(1)"
   ]
  },
  {
   "cell_type": "code",
   "execution_count": 25,
   "id": "95daf014",
   "metadata": {},
   "outputs": [
    {
     "name": "stdout",
     "output_type": "stream",
     "text": [
      "0\n",
      "1\n"
     ]
    }
   ],
   "source": [
    "data1.desc()"
   ]
  },
  {
   "cell_type": "code",
   "execution_count": null,
   "id": "593ec9b5",
   "metadata": {},
   "outputs": [],
   "source": []
  }
 ],
 "metadata": {
  "kernelspec": {
   "display_name": "Python 3 (ipykernel)",
   "language": "python",
   "name": "python3"
  },
  "language_info": {
   "codemirror_mode": {
    "name": "ipython",
    "version": 3
   },
   "file_extension": ".py",
   "mimetype": "text/x-python",
   "name": "python",
   "nbconvert_exporter": "python",
   "pygments_lexer": "ipython3",
   "version": "3.9.13"
  }
 },
 "nbformat": 4,
 "nbformat_minor": 5
}
