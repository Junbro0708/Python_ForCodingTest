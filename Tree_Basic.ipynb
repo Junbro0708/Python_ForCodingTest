{
 "cells": [
  {
   "cell_type": "markdown",
   "id": "6057da04",
   "metadata": {},
   "source": [
    "## 파이썬 트리의 노드를 연결 리스트로 구현하기"
   ]
  },
  {
   "cell_type": "code",
   "execution_count": 1,
   "id": "7a2b235b",
   "metadata": {},
   "outputs": [],
   "source": [
    "class Node:\n",
    "    def __init__(self, value):\n",
    "        self.value = value\n",
    "        self.left = None\n",
    "        self.right = None"
   ]
  },
  {
   "cell_type": "code",
   "execution_count": 4,
   "id": "95a6125e",
   "metadata": {},
   "outputs": [],
   "source": [
    "class NodeMgmt:\n",
    "    def __init__(self, head):\n",
    "        self.head = head\n",
    "        \n",
    "    def insert(self, value):\n",
    "        self.currentNode = self.head\n",
    "        while True:\n",
    "            if value < self.currentNode.value:\n",
    "                if self.currentNode.left != None:\n",
    "                    self.currentNode = self.currentNode.left\n",
    "                else:\n",
    "                    self.currentNode.left = Node(value)\n",
    "                    break\n",
    "            else:\n",
    "                if self.currentNode.right != None:\n",
    "                    self.currentNode = self.currentNode.right\n",
    "                else:\n",
    "                    self.currentNode.right = Node(value)\n",
    "                    break\n",
    "                    \n",
    "    def search(self, value):\n",
    "        self.currentNode = self.head\n",
    "        while self.currentNode:\n",
    "            if self.currentNode.value == value:\n",
    "                return True\n",
    "            elif value < self.currentNode.value:\n",
    "                self.currentNode = self.currentNode.left\n",
    "            else:\n",
    "                self.currentNode = self.currentNode.right\n",
    "        return False\n",
    "            "
   ]
  },
  {
   "cell_type": "code",
   "execution_count": 5,
   "id": "58b07075",
   "metadata": {},
   "outputs": [],
   "source": [
    "head = Node(1)\n",
    "BST = NodeMgmt(head)\n",
    "BST.insert(2)"
   ]
  },
  {
   "cell_type": "code",
   "execution_count": 8,
   "id": "2d611b49",
   "metadata": {},
   "outputs": [
    {
     "data": {
      "text/plain": [
       "True"
      ]
     },
     "execution_count": 8,
     "metadata": {},
     "output_type": "execute_result"
    }
   ],
   "source": [
    "BST.search(1)"
   ]
  },
  {
   "cell_type": "markdown",
   "id": "990f41e0",
   "metadata": {},
   "source": [
    "#### 이진 탐색 트리에서 데이터를 삭제하는 방법 (복잡해서 경우의 수로 생각하는 것이 좋음)\n",
    "\n",
    "- Leaf 노드를 삭제하는 경우\n",
    "- Child 노드가 하나인 경우\n",
    "- Child 노드가 두 개이 경우\n",
    "    1. **삭제할 Node의 오른쪽 자식 중에서, 가장 작은 값을 Parent노드로 올림**\n",
    "    1. 삭제할 Node의 왼쪽 자식 중에서, 가장 큰 값을 Parent노드로 올림"
   ]
  },
  {
   "cell_type": "code",
   "execution_count": null,
   "id": "cecaec93",
   "metadata": {},
   "outputs": [],
   "source": []
  }
 ],
 "metadata": {
  "kernelspec": {
   "display_name": "Python 3 (ipykernel)",
   "language": "python",
   "name": "python3"
  },
  "language_info": {
   "codemirror_mode": {
    "name": "ipython",
    "version": 3
   },
   "file_extension": ".py",
   "mimetype": "text/x-python",
   "name": "python",
   "nbconvert_exporter": "python",
   "pygments_lexer": "ipython3",
   "version": "3.9.13"
  }
 },
 "nbformat": 4,
 "nbformat_minor": 5
}
