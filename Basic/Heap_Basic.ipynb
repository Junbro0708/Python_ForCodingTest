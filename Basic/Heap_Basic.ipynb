{
 "cells": [
  {
   "cell_type": "markdown",
   "id": "253b220e",
   "metadata": {},
   "source": [
    "## Heap 구현하기\n",
    "- 힙 구현을 할 때에는 일반적으로 배열을 활용\n",
    "- 힙 구현의 편의를 위해 루트 노드 인덱스 번호를 1로 지정해 구현을 조금 더 수월하게 함\n",
    "    - 부모 노드 인덱스 번호는 자식 노드 인덱스 번호 나누기 2를 한 몫\n",
    "    - 왼쪽 자식 노드의 인덱스 번호는 자신의 인덱스 번호 * 2 / 오른쪽 자식 노드는 자신의 인덱스 번호 * 2 + 1"
   ]
  },
  {
   "cell_type": "markdown",
   "id": "6eb8637b",
   "metadata": {},
   "source": [
    "### 힙의 삽입 구현하기"
   ]
  },
  {
   "cell_type": "code",
   "execution_count": 3,
   "id": "b364b54c",
   "metadata": {},
   "outputs": [
    {
     "data": {
      "text/plain": [
       "[None, 1]"
      ]
     },
     "execution_count": 3,
     "metadata": {},
     "output_type": "execute_result"
    }
   ],
   "source": [
    "class Heap:\n",
    "    def __init__(self, data):\n",
    "        self.heap_array = list()\n",
    "        self.heap_array.append(None)\n",
    "        self.heap_array.append(data)\n",
    "        \n",
    "    def move_up(self, inserted_idx):\n",
    "        if inserted_idx <= 1:\n",
    "            return False\n",
    "        \n",
    "        parent_idx = inserted_idx // 2\n",
    "        if self.heap_array[inserted_idx] > self.heap_array[parent_idx]:\n",
    "            return True\n",
    "        else:\n",
    "            return False\n",
    "    \n",
    "    def insert(self, data):\n",
    "        if len(self.heap_array) == 0:\n",
    "            self.heap_array.append(None)\n",
    "            self.heap_array.append(data)\n",
    "            return True\n",
    "        \n",
    "        self.heap_array.append(data)\n",
    "        \n",
    "        inserted_idx = len(self.heap_array) - 1\n",
    "        \n",
    "        while self.move_up(inserted_idx):\n",
    "            parent_idx = inserted_idx // 2\n",
    "            self.heap_array[inserted_idx], self.heap_array[parent_idx] = self.heap_array[parent_idx], self.heap_array[inserted_idx]\n",
    "            inserted_idx = parent_idx\n",
    "        return True"
   ]
  },
  {
   "cell_type": "markdown",
   "id": "1153c181",
   "metadata": {},
   "source": [
    "### 데이터를 입력하는 과정\n",
    "1. 완전 이진 트리처럼 왼쪽부터 하나씩 쌓아가는 과정\n",
    "2. 쌓여진 데이터를 위와 바꿔가는 과정"
   ]
  },
  {
   "cell_type": "code",
   "execution_count": 5,
   "id": "62263502",
   "metadata": {},
   "outputs": [
    {
     "data": {
      "text/plain": [
       "[None, 20, 10, 15, 5, 4, 8]"
      ]
     },
     "execution_count": 5,
     "metadata": {},
     "output_type": "execute_result"
    }
   ],
   "source": [
    "heap = Heap(15)\n",
    "heap.insert(10)\n",
    "heap.insert(8)\n",
    "heap.insert(5)\n",
    "heap.insert(4)\n",
    "heap.insert(20)\n",
    "heap.heap_array"
   ]
  },
  {
   "cell_type": "code",
   "execution_count": null,
   "id": "7f555f41",
   "metadata": {},
   "outputs": [],
   "source": []
  }
 ],
 "metadata": {
  "kernelspec": {
   "display_name": "Python 3 (ipykernel)",
   "language": "python",
   "name": "python3"
  },
  "language_info": {
   "codemirror_mode": {
    "name": "ipython",
    "version": 3
   },
   "file_extension": ".py",
   "mimetype": "text/x-python",
   "name": "python",
   "nbconvert_exporter": "python",
   "pygments_lexer": "ipython3",
   "version": "3.9.13"
  }
 },
 "nbformat": 4,
 "nbformat_minor": 5
}
