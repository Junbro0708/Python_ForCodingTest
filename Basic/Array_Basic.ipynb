{
 "cells": [
  {
   "cell_type": "code",
   "execution_count": 5,
   "id": "35755d8b",
   "metadata": {},
   "outputs": [
    {
     "data": {
      "text/plain": [
       "[1, 2, 3, 4, 5]"
      ]
     },
     "execution_count": 5,
     "metadata": {},
     "output_type": "execute_result"
    }
   ],
   "source": [
    "# 파이썬에서 배열은 List type\n",
    "\n",
    "data = [1, 2, 3, 4, 5]\n",
    "data"
   ]
  },
  {
   "cell_type": "code",
   "execution_count": 7,
   "id": "3aeacb74",
   "metadata": {},
   "outputs": [
    {
     "data": {
      "text/plain": [
       "[[1, 2, 3], [4, 5, 6], [7, 8, 9]]"
      ]
     },
     "execution_count": 7,
     "metadata": {},
     "output_type": "execute_result"
    }
   ],
   "source": [
    "# 2차원 배열\n",
    "data = [[1, 2, 3], [4, 5, 6], [7, 8, 9]]\n",
    "data"
   ]
  },
  {
   "cell_type": "code",
   "execution_count": 9,
   "id": "37340a80",
   "metadata": {},
   "outputs": [
    {
     "data": {
      "text/plain": [
       "2"
      ]
     },
     "execution_count": 9,
     "metadata": {},
     "output_type": "execute_result"
    }
   ],
   "source": [
    "data[0][1]"
   ]
  },
  {
   "cell_type": "code",
   "execution_count": 12,
   "id": "4dad1212",
   "metadata": {},
   "outputs": [
    {
     "name": "stdout",
     "output_type": "stream",
     "text": [
      "9\n",
      "8\n",
      "7\n"
     ]
    }
   ],
   "source": [
    "print(data[2][2])\n",
    "print(data[2][1])\n",
    "print(data[2][0])"
   ]
  },
  {
   "cell_type": "code",
   "execution_count": 13,
   "id": "18f4eebe",
   "metadata": {},
   "outputs": [
    {
     "data": {
      "text/plain": [
       "['Braund, Mr. Owen Harris',\n",
       " 'Cumings, Mrs. John Bradley (Florence Briggs Thayer)',\n",
       " 'Heikkinen, Miss. Laina',\n",
       " 'Futrelle, Mrs. Jacques Heath (Lily May Peel)',\n",
       " 'Allen, Mr. William Henry',\n",
       " 'Moran, Mr. James',\n",
       " 'McCarthy, Mr. Timothy J',\n",
       " 'Palsson, Master. Gosta Leonard',\n",
       " 'Johnson, Mrs. Oscar W (Elisabeth Vilhelmina Berg)',\n",
       " 'Nasser, Mrs. Nicholas (Adele Achem)',\n",
       " 'Sandstrom, Miss. Marguerite Rut',\n",
       " 'Bonnell, Miss. Elizabeth',\n",
       " 'Saundercock, Mr. William Henry',\n",
       " 'Andersson, Mr. Anders Johan',\n",
       " 'Vestrom, Miss. Hulda Amanda Adolfina',\n",
       " 'Hewlett, Mrs. (Mary D Kingcome) ',\n",
       " 'Rice, Master. Eugene',\n",
       " 'Williams, Mr. Charles Eugene',\n",
       " 'Vander Planke, Mrs. Julius (Emelia Maria Vandemoortele)',\n",
       " 'Masselmani, Mrs. Fatima',\n",
       " 'Fynney, Mr. Joseph J',\n",
       " 'Beesley, Mr. Lawrence',\n",
       " 'McGowan, Miss. Anna',\n",
       " 'Sloper, Mr. William Thompson',\n",
       " 'Palsson, Miss. Torborg Danira',\n",
       " 'Asplund, Mrs. Carl Oscar (Selma Augusta Emilia Johansson)',\n",
       " 'Emir, Mr. Farred Chehab',\n",
       " 'Fortune, Mr. Charles Alexander',\n",
       " 'Dwyer, Miss. Ellen',\n",
       " 'Todoroff, Mr. Lalio']"
      ]
     },
     "execution_count": 13,
     "metadata": {},
     "output_type": "execute_result"
    }
   ],
   "source": [
    "dataset = [\"Braund, Mr. Owen Harris\",\n",
    "    \"Cumings, Mrs. John Bradley (Florence Briggs Thayer)\",\n",
    "    \"Heikkinen, Miss. Laina\",\n",
    "    \"Futrelle, Mrs. Jacques Heath (Lily May Peel)\",\n",
    "    \"Allen, Mr. William Henry\",\n",
    "    \"Moran, Mr. James\",\n",
    "    \"McCarthy, Mr. Timothy J\",\n",
    "    \"Palsson, Master. Gosta Leonard\",\n",
    "    \"Johnson, Mrs. Oscar W (Elisabeth Vilhelmina Berg)\",\n",
    "    \"Nasser, Mrs. Nicholas (Adele Achem)\",\n",
    "    \"Sandstrom, Miss. Marguerite Rut\",\n",
    "    \"Bonnell, Miss. Elizabeth\",\n",
    "    \"Saundercock, Mr. William Henry\",\n",
    "    \"Andersson, Mr. Anders Johan\",\n",
    "    \"Vestrom, Miss. Hulda Amanda Adolfina\",\n",
    "    \"Hewlett, Mrs. (Mary D Kingcome) \",\n",
    "    \"Rice, Master. Eugene\",\n",
    "    \"Williams, Mr. Charles Eugene\",\n",
    "    \"Vander Planke, Mrs. Julius (Emelia Maria Vandemoortele)\",\n",
    "    \"Masselmani, Mrs. Fatima\",\n",
    "    \"Fynney, Mr. Joseph J\",\n",
    "    \"Beesley, Mr. Lawrence\",\n",
    "    \"McGowan, Miss. Anna\",\n",
    "    \"Sloper, Mr. William Thompson\",\n",
    "    \"Palsson, Miss. Torborg Danira\",\n",
    "    \"Asplund, Mrs. Carl Oscar (Selma Augusta Emilia Johansson)\",\n",
    "    \"Emir, Mr. Farred Chehab\",\n",
    "    \"Fortune, Mr. Charles Alexander\",\n",
    "    \"Dwyer, Miss. Ellen\",\n",
    "    \"Todoroff, Mr. Lalio\"]\n",
    "dataset"
   ]
  },
  {
   "cell_type": "code",
   "execution_count": 21,
   "id": "8671ebba",
   "metadata": {},
   "outputs": [
    {
     "data": {
      "text/plain": [
       "38"
      ]
     },
     "execution_count": 21,
     "metadata": {},
     "output_type": "execute_result"
    }
   ],
   "source": [
    "cnt = 0;\n",
    "\n",
    "for i in dataset:\n",
    "    for j in range(len(i)):\n",
    "        if i[j] == \"M\":\n",
    "            cnt += 1\n",
    "            \n",
    "cnt"
   ]
  },
  {
   "cell_type": "code",
   "execution_count": 8,
   "id": "389f3357",
   "metadata": {},
   "outputs": [
    {
     "data": {
      "text/plain": [
       "[1]"
      ]
     },
     "execution_count": 8,
     "metadata": {},
     "output_type": "execute_result"
    }
   ],
   "source": [
    "array = list()\n",
    "array.append(1)\n",
    "array"
   ]
  },
  {
   "cell_type": "code",
   "execution_count": 10,
   "id": "662c4f8c",
   "metadata": {},
   "outputs": [
    {
     "data": {
      "text/plain": [
       "[1, 2, 3, 4]"
      ]
     },
     "execution_count": 10,
     "metadata": {},
     "output_type": "execute_result"
    }
   ],
   "source": [
    "array_test = list([1, 2, 3, 4])\n",
    "array_test"
   ]
  },
  {
   "cell_type": "code",
   "execution_count": 11,
   "id": "3d9c8305",
   "metadata": {},
   "outputs": [],
   "source": [
    "array_1 = list([1, 2, 3, 4])\n",
    "array_2 = ['I', 'am', 'a', 'developer']"
   ]
  },
  {
   "cell_type": "code",
   "execution_count": 12,
   "id": "1d2d41aa",
   "metadata": {},
   "outputs": [],
   "source": [
    "array_1.append(5)"
   ]
  },
  {
   "cell_type": "code",
   "execution_count": 14,
   "id": "033c9c9d",
   "metadata": {},
   "outputs": [
    {
     "name": "stdout",
     "output_type": "stream",
     "text": [
      "[1, 2, 3, 4, 5]\n"
     ]
    }
   ],
   "source": [
    "print(array_1)"
   ]
  },
  {
   "cell_type": "code",
   "execution_count": null,
   "id": "fba3b034",
   "metadata": {},
   "outputs": [],
   "source": []
  }
 ],
 "metadata": {
  "kernelspec": {
   "display_name": "Python 3 (ipykernel)",
   "language": "python",
   "name": "python3"
  },
  "language_info": {
   "codemirror_mode": {
    "name": "ipython",
    "version": 3
   },
   "file_extension": ".py",
   "mimetype": "text/x-python",
   "name": "python",
   "nbconvert_exporter": "python",
   "pygments_lexer": "ipython3",
   "version": "3.9.13"
  }
 },
 "nbformat": 4,
 "nbformat_minor": 5
}
