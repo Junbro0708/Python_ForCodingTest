{
 "cells": [
  {
   "cell_type": "markdown",
   "id": "7be07d1e",
   "metadata": {},
   "source": [
    "## 탐욕 알고리즘\n",
    "\n",
    "1. 최적의 해에 가까운 값을 구하기 위해 사용됨\n",
    "2. 여러 경우 중 하나를 결정해야할 때마다 최적이라고 생각되는 경우의 수를 선택\n",
    "\n",
    "### 문제의 예 1 ) 동전 문제\n",
    "\n",
    "- 가장 큰 동전부터 지불해야하는 값을 채우는 방식\n",
    "- 매순간 최적이라고 생각되는 경우를 선택"
   ]
  },
  {
   "cell_type": "code",
   "execution_count": 2,
   "id": "9b442acd",
   "metadata": {},
   "outputs": [
    {
     "data": {
      "text/plain": [
       "31"
      ]
     },
     "execution_count": 2,
     "metadata": {},
     "output_type": "execute_result"
    }
   ],
   "source": [
    "coin_list = [500, 100, 50, 1]\n",
    "\n",
    "def coin_cnt(value, coin_list):\n",
    "    answer = 0\n",
    "    coin_list.sort(reverse=True)\n",
    "    for coin in coin_list:\n",
    "        coin_num = value // coin\n",
    "        answer += coin_num\n",
    "        value -= coin_num * coin\n",
    "    return answer\n",
    "\n",
    "coin_cnt(4720, coin_list)"
   ]
  },
  {
   "cell_type": "markdown",
   "id": "0cae7012",
   "metadata": {},
   "source": [
    "### 문제의 예 2 ) 배낭 문제\n",
    "\n",
    "- 특정 물건의 무게가 k 무게 제한이 있는 배낭에 넣을 때 최대 가치를 가지도록 넣는가"
   ]
  },
  {
   "cell_type": "code",
   "execution_count": 4,
   "id": "7a7027d2",
   "metadata": {},
   "outputs": [
    {
     "data": {
      "text/plain": [
       "24.5"
      ]
     },
     "execution_count": 4,
     "metadata": {},
     "output_type": "execute_result"
    }
   ],
   "source": [
    "data_list = [(10, 10),(15, 12),(20, 10),(25, 8),(30, 5)]\n",
    "\n",
    "# data_list = sorted(data_list, key=lambda x:x[1]/x[0], reverse=True)\n",
    "# data_list\n",
    "\n",
    "def max_value(value, data_list):\n",
    "    data_list = sorted(data_list, key=lambda x:x[1]/x[0], reverse=True)\n",
    "    answer = 0\n",
    "    for data in data_list:\n",
    "        if value - data[0] >= 0:\n",
    "            value -= data[0]\n",
    "            answer += data[1]\n",
    "        else:\n",
    "            fraction = value / data[0]\n",
    "            answer += data[1] * fraction\n",
    "            break\n",
    "    return answer\n",
    "\n",
    "max_value(30, data_list)"
   ]
  },
  {
   "cell_type": "code",
   "execution_count": null,
   "id": "4068925e",
   "metadata": {},
   "outputs": [],
   "source": []
  }
 ],
 "metadata": {
  "kernelspec": {
   "display_name": "Python 3 (ipykernel)",
   "language": "python",
   "name": "python3"
  },
  "language_info": {
   "codemirror_mode": {
    "name": "ipython",
    "version": 3
   },
   "file_extension": ".py",
   "mimetype": "text/x-python",
   "name": "python",
   "nbconvert_exporter": "python",
   "pygments_lexer": "ipython3",
   "version": "3.9.13"
  }
 },
 "nbformat": 4,
 "nbformat_minor": 5
}
