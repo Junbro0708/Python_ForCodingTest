{
 "cells": [
  {
   "cell_type": "markdown",
   "id": "2b3ed629",
   "metadata": {},
   "source": [
    "###### 간단한 해쉬 테이블 만들기"
   ]
  },
  {
   "cell_type": "code",
   "execution_count": 26,
   "id": "0899b13f",
   "metadata": {},
   "outputs": [
    {
     "data": {
      "text/plain": [
       "[0, 0, 0, 0, 0, 0, 0, 0, 0, 0]"
      ]
     },
     "execution_count": 26,
     "metadata": {},
     "output_type": "execute_result"
    }
   ],
   "source": [
    "hash_table = list([0 for i in range(10)])\n",
    "hash_table"
   ]
  },
  {
   "cell_type": "markdown",
   "id": "0d5eb2f6",
   "metadata": {},
   "source": [
    "##### 해쉬 함수 만들기\n",
    "- 다양한 방법이 있지만 나누기를 통해 나머지 값을 사용하는 기법"
   ]
  },
  {
   "cell_type": "code",
   "execution_count": 13,
   "id": "8e4a11df",
   "metadata": {},
   "outputs": [],
   "source": [
    "def hash_func(key):\n",
    "    return key % 5 # 고정된 길이로 리턴"
   ]
  },
  {
   "cell_type": "code",
   "execution_count": 22,
   "id": "5f7a7aa0",
   "metadata": {},
   "outputs": [
    {
     "name": "stdout",
     "output_type": "stream",
     "text": [
      "65\n",
      "68\n",
      "84\n",
      "0\n",
      "3\n",
      "4\n"
     ]
    }
   ],
   "source": [
    "data1 = 'Andy'\n",
    "data2 = 'Dave'\n",
    "data3 = 'Trump'\n",
    "\n",
    "## ord함수는 문자의 ASCII코드를 리턴 (키 값으로 활용)\n",
    "print(ord(data1[0]))\n",
    "print(ord(data2[0]))\n",
    "print(ord(data3[0]))\n",
    "\n",
    "print(hash_func(ord(data1[0])))\n",
    "print(hash_func(ord(data2[0])))\n",
    "print(hash_func(ord(data3[0])))"
   ]
  },
  {
   "cell_type": "code",
   "execution_count": 27,
   "id": "3656f1f3",
   "metadata": {},
   "outputs": [
    {
     "name": "stdout",
     "output_type": "stream",
     "text": [
      "['010101034', 0, 0, '232151351', '129759812', 0, 0, 0, 0, 0]\n"
     ]
    }
   ],
   "source": [
    "def storage_data(data, value):\n",
    "    key = ord(data[0])\n",
    "    hash_address = hash_func(key)\n",
    "    hash_table[hash_address] = value\n",
    "    \n",
    "storage_data('Andy', '010101034')\n",
    "storage_data('Dave', '232151351')\n",
    "storage_data('Trump', '129759812')\n",
    "print(hash_table)"
   ]
  },
  {
   "cell_type": "code",
   "execution_count": 28,
   "id": "773a0894",
   "metadata": {},
   "outputs": [
    {
     "data": {
      "text/plain": [
       "'010101034'"
      ]
     },
     "execution_count": 28,
     "metadata": {},
     "output_type": "execute_result"
    }
   ],
   "source": [
    "def get_data(data):\n",
    "    key = ord(data[0])\n",
    "    hash_address = hash_func(key)\n",
    "    return hash_table[hash_address]\n",
    "\n",
    "get_data(\"Andy\")"
   ]
  },
  {
   "cell_type": "code",
   "execution_count": 32,
   "id": "2096bb36",
   "metadata": {},
   "outputs": [],
   "source": [
    "hash_table = list([0 for i in range(8)])\n",
    "\n",
    "def get_key(data):\n",
    "    return hash(data)\n",
    "\n",
    "def hash_function(key):\n",
    "    return key % 8\n",
    "\n",
    "def save_data(data, value):\n",
    "    hash_address = hash_function(get_key(data))\n",
    "    hash_table[hash_address] = value\n",
    "    \n",
    "def read_data(data):\n",
    "    hash_address = hash_function(get_key(data))\n",
    "    return hash_table[hash_address]"
   ]
  },
  {
   "cell_type": "code",
   "execution_count": 33,
   "id": "c664a9c8",
   "metadata": {},
   "outputs": [
    {
     "data": {
      "text/plain": [
       "[0, 0, 'wwwww', 0, 'dwdwd', 0, 0, 0]"
      ]
     },
     "execution_count": 33,
     "metadata": {},
     "output_type": "execute_result"
    }
   ],
   "source": [
    "save_data(\"A\", 'dwdwd')\n",
    "save_data(\"B\", 'wwwww')\n",
    "hash_table"
   ]
  },
  {
   "cell_type": "code",
   "execution_count": null,
   "id": "b22071d2",
   "metadata": {},
   "outputs": [],
   "source": []
  }
 ],
 "metadata": {
  "kernelspec": {
   "display_name": "Python 3 (ipykernel)",
   "language": "python",
   "name": "python3"
  },
  "language_info": {
   "codemirror_mode": {
    "name": "ipython",
    "version": 3
   },
   "file_extension": ".py",
   "mimetype": "text/x-python",
   "name": "python",
   "nbconvert_exporter": "python",
   "pygments_lexer": "ipython3",
   "version": "3.9.13"
  }
 },
 "nbformat": 4,
 "nbformat_minor": 5
}
