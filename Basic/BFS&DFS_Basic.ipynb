{
 "cells": [
  {
   "cell_type": "markdown",
   "id": "0ca3c331",
   "metadata": {},
   "source": [
    "## 너비 우선 탐색 (Breadth-First Search)\n",
    "\n",
    "1. BFS와 DFS\n",
    "    - 대표적인 그래프 탐색 알고리즘\n",
    "    - 너비 우선 탐색은 정점들과 같은 레벨에 있는 노드들 부터 탐색하는 방식\n",
    "    - 깊이 우선 탐색은 정점의 자식들을 먼저 탐색하는 방식\n"
   ]
  },
  {
   "cell_type": "code",
   "execution_count": 3,
   "id": "80bdb8bf",
   "metadata": {},
   "outputs": [],
   "source": [
    "## BFS 구현\n",
    "\n",
    "graph = dict()\n",
    "\n",
    "graph['A']=['B','C']\n",
    "graph['B']=['A','D']\n",
    "graph['C']=['A','G','H','I']\n",
    "graph['D']=['B','E','F']\n",
    "graph['E']=['D']\n",
    "graph['F']=['D']\n",
    "graph['G']=['C']\n",
    "graph['H']=['C']\n",
    "graph['I']=['C','J']\n",
    "graph['J']=['I']"
   ]
  },
  {
   "cell_type": "code",
   "execution_count": 4,
   "id": "5a46f756",
   "metadata": {},
   "outputs": [],
   "source": [
    "def bfs(graph, start_node):\n",
    "    visited = list()\n",
    "    need_visit = list()\n",
    "    \n",
    "    need_visit.append(start_node)\n",
    "    \n",
    "    while need_visit:\n",
    "        node = need_visit.pop(0)\n",
    "        \n",
    "        if node not in visited:\n",
    "            visited.append(node)\n",
    "            need_visit.extend(graph[node])\n",
    "    \n",
    "    return visited"
   ]
  },
  {
   "cell_type": "code",
   "execution_count": 5,
   "id": "32a72fd9",
   "metadata": {},
   "outputs": [
    {
     "data": {
      "text/plain": [
       "['A', 'B', 'C', 'D', 'G', 'H', 'I', 'E', 'F', 'J']"
      ]
     },
     "execution_count": 5,
     "metadata": {},
     "output_type": "execute_result"
    }
   ],
   "source": [
    "bfs(graph, 'A')"
   ]
  },
  {
   "cell_type": "code",
   "execution_count": 6,
   "id": "ef776159",
   "metadata": {},
   "outputs": [],
   "source": [
    "def dfs(graph, start_node):\n",
    "    visited, need_visit = list(), list()\n",
    "    need_visit.append(start_node)\n",
    "    \n",
    "    while need_visit:\n",
    "        node = need_visit.pop()\n",
    "        if node not in visited:\n",
    "            visited.append(node)\n",
    "            need_visit.extend(graph[node])\n",
    "    \n",
    "    return visited"
   ]
  },
  {
   "cell_type": "code",
   "execution_count": 7,
   "id": "cb2a7399",
   "metadata": {},
   "outputs": [
    {
     "data": {
      "text/plain": [
       "['A', 'C', 'I', 'J', 'H', 'G', 'B', 'D', 'F', 'E']"
      ]
     },
     "execution_count": 7,
     "metadata": {},
     "output_type": "execute_result"
    }
   ],
   "source": [
    "dfs(graph, 'A')"
   ]
  },
  {
   "cell_type": "code",
   "execution_count": null,
   "id": "21ea30d4",
   "metadata": {},
   "outputs": [],
   "source": []
  }
 ],
 "metadata": {
  "kernelspec": {
   "display_name": "Python 3 (ipykernel)",
   "language": "python",
   "name": "python3"
  },
  "language_info": {
   "codemirror_mode": {
    "name": "ipython",
    "version": 3
   },
   "file_extension": ".py",
   "mimetype": "text/x-python",
   "name": "python",
   "nbconvert_exporter": "python",
   "pygments_lexer": "ipython3",
   "version": "3.9.13"
  }
 },
 "nbformat": 4,
 "nbformat_minor": 5
}
