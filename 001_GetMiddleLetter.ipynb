{
 "cells": [
  {
   "cell_type": "code",
   "execution_count": 4,
   "id": "79203c55",
   "metadata": {},
   "outputs": [
    {
     "data": {
      "text/plain": [
       "1"
      ]
     },
     "execution_count": 4,
     "metadata": {},
     "output_type": "execute_result"
    }
   ],
   "source": [
    "# 프로그래머스 가운데 글자 가져오기\n",
    "# https://school.programmers.co.kr/learn/courses/30/lessons/12903?language=python3\n",
    "\n",
    "len(\"ddd\") // 2"
   ]
  },
  {
   "cell_type": "code",
   "execution_count": 13,
   "id": "9c5c71ed",
   "metadata": {},
   "outputs": [
    {
     "data": {
      "text/plain": [
       "'ae'"
      ]
     },
     "execution_count": 13,
     "metadata": {},
     "output_type": "execute_result"
    }
   ],
   "source": [
    "def solution(s):\n",
    "    if len(s) % 2 == 1: return s[(len(s) // 2)]\n",
    "    else: return s[(len(s) // 2)-1] + s[(len(s) // 2)]"
   ]
  },
  {
   "cell_type": "code",
   "execution_count": null,
   "id": "6dc3932d",
   "metadata": {},
   "outputs": [],
   "source": []
  }
 ],
 "metadata": {
  "kernelspec": {
   "display_name": "Python 3 (ipykernel)",
   "language": "python",
   "name": "python3"
  },
  "language_info": {
   "codemirror_mode": {
    "name": "ipython",
    "version": 3
   },
   "file_extension": ".py",
   "mimetype": "text/x-python",
   "name": "python",
   "nbconvert_exporter": "python",
   "pygments_lexer": "ipython3",
   "version": "3.9.13"
  }
 },
 "nbformat": 4,
 "nbformat_minor": 5
}
