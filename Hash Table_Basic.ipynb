{
 "cells": [
  {
   "cell_type": "markdown",
   "id": "4b65abe1",
   "metadata": {},
   "source": [
    "###### 간단한 해쉬 테이블 만들기"
   ]
  },
  {
   "cell_type": "code",
   "execution_count": 11,
   "id": "8ceb88c5",
   "metadata": {},
   "outputs": [
    {
     "data": {
      "text/plain": [
       "[0, 1, 2, 3, 4, 5, 6, 7, 8, 9]"
      ]
     },
     "execution_count": 11,
     "metadata": {},
     "output_type": "execute_result"
    }
   ],
   "source": [
    "hash_table = list([i for i in range(10)])\n",
    "hash_table"
   ]
  },
  {
   "cell_type": "markdown",
   "id": "32e4757a",
   "metadata": {},
   "source": [
    "##### 해쉬 함수 만들기\n",
    "- 다양한 방법이 있지만 나누기를 통해 나머지 값을 사용하는 기법"
   ]
  },
  {
   "cell_type": "code",
   "execution_count": 13,
   "id": "ed6c1377",
   "metadata": {},
   "outputs": [],
   "source": [
    "def hash_func(key):\n",
    "    return key % 5 # 고정된 길이로 리턴"
   ]
  },
  {
   "cell_type": "code",
   "execution_count": 22,
   "id": "ae397d7a",
   "metadata": {},
   "outputs": [
    {
     "name": "stdout",
     "output_type": "stream",
     "text": [
      "65\n",
      "68\n",
      "84\n",
      "0\n",
      "3\n",
      "4\n"
     ]
    }
   ],
   "source": [
    "data1 = 'Andy'\n",
    "data2 = 'Dave'\n",
    "data3 = 'Trump'\n",
    "\n",
    "## ord함수는 문자의 ASCII코드를 리턴 (키 값으로 활용)\n",
    "print(ord(data1[0]))\n",
    "print(ord(data2[0]))\n",
    "print(ord(data3[0]))\n",
    "\n",
    "print(hash_func(ord(data1[0])))\n",
    "print(hash_func(ord(data2[0])))\n",
    "print(hash_func(ord(data3[0])))"
   ]
  },
  {
   "cell_type": "code",
   "execution_count": 24,
   "id": "b4b263c6",
   "metadata": {},
   "outputs": [
    {
     "name": "stdout",
     "output_type": "stream",
     "text": [
      "['010101034', 1, 2, '232151351', '129759812', 5, 6, 7, 8, 9]\n"
     ]
    }
   ],
   "source": [
    "def storage_data(data, value):\n",
    "    key = ord(data[0])\n",
    "    hash_address = hash_func(key)\n",
    "    hash_table[hash_address] = value\n",
    "    \n",
    "storage_data('Andy', '010101034')\n",
    "storage_data('Dave', '232151351')\n",
    "storage_data('Trump', '129759812')\n",
    "print(hash_table)"
   ]
  },
  {
   "cell_type": "code",
   "execution_count": 25,
   "id": "da76f389",
   "metadata": {},
   "outputs": [
    {
     "data": {
      "text/plain": [
       "'010101034'"
      ]
     },
     "execution_count": 25,
     "metadata": {},
     "output_type": "execute_result"
    }
   ],
   "source": [
    "def get_data(data):\n",
    "    key = ord(data[0])\n",
    "    hash_address = hash_func(key)\n",
    "    return hash_table[hash_address]\n",
    "\n",
    "get_data(\"Andy\")"
   ]
  },
  {
   "cell_type": "code",
   "execution_count": null,
   "id": "46da5472",
   "metadata": {},
   "outputs": [],
   "source": []
  }
 ],
 "metadata": {
  "kernelspec": {
   "display_name": "Python 3 (ipykernel)",
   "language": "python",
   "name": "python3"
  },
  "language_info": {
   "codemirror_mode": {
    "name": "ipython",
    "version": 3
   },
   "file_extension": ".py",
   "mimetype": "text/x-python",
   "name": "python",
   "nbconvert_exporter": "python",
   "pygments_lexer": "ipython3",
   "version": "3.9.13"
  }
 },
 "nbformat": 4,
 "nbformat_minor": 5
}
