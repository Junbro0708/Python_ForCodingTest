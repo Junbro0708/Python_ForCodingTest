{
 "cells": [
  {
   "cell_type": "code",
   "execution_count": 1,
   "id": "9931871c",
   "metadata": {},
   "outputs": [],
   "source": [
    "## 백준 알고리즘 1920번\n",
    "## https://www.acmicpc.net/problem/1920"
   ]
  },
  {
   "cell_type": "code",
   "execution_count": 19,
   "id": "1a5c152b",
   "metadata": {},
   "outputs": [
    {
     "name": "stdout",
     "output_type": "stream",
     "text": [
      "5\n",
      "4 1 5 2 3\n",
      "5\n",
      "1 3 9 7 5\n",
      "1\n",
      "1\n",
      "0\n",
      "0\n",
      "1\n"
     ]
    }
   ],
   "source": [
    "N = int(input())\n",
    "N_list = list(map(int, input().split(' ')))\n",
    "M = int(input())\n",
    "M_list = list(map(int, input().split(' ')))\n",
    "\n",
    "N_list.sort()\n",
    "\n",
    "def binary_search(value, start, end):\n",
    "    if start > end:\n",
    "        return False\n",
    "    \n",
    "    medium = (start+end) // 2\n",
    "    \n",
    "    if N_list[medium] < value:\n",
    "        return binary_search(value, medium + 1, end)\n",
    "    elif N_list[medium] > value:\n",
    "        return binary_search(value, start, medium-1)\n",
    "    else:\n",
    "        return True\n",
    "    \n",
    "for item in M_list:\n",
    "    if binary_search(item, 0, N - 1):\n",
    "        print(1)\n",
    "    else:\n",
    "        print(0)"
   ]
  },
  {
   "cell_type": "code",
   "execution_count": 3,
   "id": "f63989a5",
   "metadata": {},
   "outputs": [
    {
     "data": {
      "text/plain": [
       "<map at 0x7ff5b04eaf70>"
      ]
     },
     "execution_count": 3,
     "metadata": {},
     "output_type": "execute_result"
    }
   ],
   "source": [
    "N_list"
   ]
  },
  {
   "cell_type": "code",
   "execution_count": null,
   "id": "96954156",
   "metadata": {},
   "outputs": [],
   "source": []
  }
 ],
 "metadata": {
  "kernelspec": {
   "display_name": "Python 3 (ipykernel)",
   "language": "python",
   "name": "python3"
  },
  "language_info": {
   "codemirror_mode": {
    "name": "ipython",
    "version": 3
   },
   "file_extension": ".py",
   "mimetype": "text/x-python",
   "name": "python",
   "nbconvert_exporter": "python",
   "pygments_lexer": "ipython3",
   "version": "3.9.13"
  }
 },
 "nbformat": 4,
 "nbformat_minor": 5
}
