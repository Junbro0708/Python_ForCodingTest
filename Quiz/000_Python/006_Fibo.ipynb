{
 "cells": [
  {
   "cell_type": "code",
   "execution_count": 1,
   "id": "52d7dda4",
   "metadata": {},
   "outputs": [],
   "source": [
    "## 백준 24416번\n",
    "## https://www.acmicpc.net/problem/24416"
   ]
  },
  {
   "cell_type": "code",
   "execution_count": 14,
   "id": "4794651f",
   "metadata": {},
   "outputs": [
    {
     "name": "stdout",
     "output_type": "stream",
     "text": [
      "30\n",
      "832040 28\n"
     ]
    }
   ],
   "source": [
    "n = int(input())\n",
    "\n",
    "def fib(num):\n",
    "    if num == 1 or num == 2:\n",
    "        return 1\n",
    "    else:\n",
    "        return fib(num-1) + fib(num-2)\n",
    "\n",
    "def fibonacci(num):\n",
    "    arr = [0]*(num+1)\n",
    "    arr[1], arr[2] = 1, 1\n",
    "    \n",
    "    cnt = 0\n",
    "    \n",
    "    for i in range(3, num+1):\n",
    "        arr[i] = arr[i - 1] + arr[i - 2]\n",
    "        cnt += 1\n",
    "    return cnt\n",
    "\n",
    "print(fib(n), fibonacci(n))"
   ]
  },
  {
   "cell_type": "code",
   "execution_count": 3,
   "id": "baf4fd0e",
   "metadata": {},
   "outputs": [
    {
     "data": {
      "text/plain": [
       "['WBWBWBWB',\n",
       " 'BWBWBWBW',\n",
       " 'WBWBWBWB',\n",
       " 'BWBBBWBW',\n",
       " 'WBWBWBWB',\n",
       " 'BWBWBWBW',\n",
       " 'WBWBWBWB',\n",
       " 'BWBWBWBW']"
      ]
     },
     "execution_count": 3,
     "metadata": {},
     "output_type": "execute_result"
    }
   ],
   "source": [
    "board"
   ]
  },
  {
   "cell_type": "code",
   "execution_count": null,
   "id": "7ad149a2",
   "metadata": {},
   "outputs": [],
   "source": []
  }
 ],
 "metadata": {
  "kernelspec": {
   "display_name": "Python 3 (ipykernel)",
   "language": "python",
   "name": "python3"
  },
  "language_info": {
   "codemirror_mode": {
    "name": "ipython",
    "version": 3
   },
   "file_extension": ".py",
   "mimetype": "text/x-python",
   "name": "python",
   "nbconvert_exporter": "python",
   "pygments_lexer": "ipython3",
   "version": "3.9.13"
  }
 },
 "nbformat": 4,
 "nbformat_minor": 5
}
