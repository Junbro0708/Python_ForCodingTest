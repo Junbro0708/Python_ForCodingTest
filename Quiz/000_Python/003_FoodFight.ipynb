{
 "cells": [
  {
   "cell_type": "code",
   "execution_count": 11,
   "id": "718ef314",
   "metadata": {},
   "outputs": [
    {
     "data": {
      "text/plain": [
       "'1223330333221'"
      ]
     },
     "execution_count": 11,
     "metadata": {},
     "output_type": "execute_result"
    }
   ],
   "source": [
    "def solution(food):\n",
    "    answer = ''\n",
    "    for i in range(len(food)):\n",
    "        answer += str(i) * (food[i] // 2)\n",
    "    return answer + '0' + answer[::-1]\n",
    "\n",
    "solution([1, 3, 4, 6])"
   ]
  },
  {
   "cell_type": "markdown",
   "id": "52a59a98",
   "metadata": {},
   "source": [
    "##### 새롭게 배운 것\n",
    "\n",
    "- [::-1] 은 문자열 슬라이싱의 [시작:끝:규칙]이 활용된 것이고, 디폴트로 1이 들어간다. 규칙에 1이 들어가면 한 글자씩 순회하면서 새로운 문자열을 만들어주는 것인데 2가 들어가면 두 칸씩 뛰어가면서 새로운 문자열을 만들어 주는 것이다. 만약 여기에 -1이 들어가면 거꾸로 순회하면서 새로운 문자열을 출력해주는 것"
   ]
  },
  {
   "cell_type": "code",
   "execution_count": null,
   "id": "43086577",
   "metadata": {},
   "outputs": [],
   "source": []
  }
 ],
 "metadata": {
  "kernelspec": {
   "display_name": "Python 3 (ipykernel)",
   "language": "python",
   "name": "python3"
  },
  "language_info": {
   "codemirror_mode": {
    "name": "ipython",
    "version": 3
   },
   "file_extension": ".py",
   "mimetype": "text/x-python",
   "name": "python",
   "nbconvert_exporter": "python",
   "pygments_lexer": "ipython3",
   "version": "3.9.13"
  }
 },
 "nbformat": 4,
 "nbformat_minor": 5
}
