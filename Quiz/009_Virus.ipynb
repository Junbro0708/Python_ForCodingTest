{
 "cells": [
  {
   "cell_type": "code",
   "execution_count": 1,
   "id": "d88ae992",
   "metadata": {},
   "outputs": [],
   "source": [
    "## 백준 2606 바이러스\n",
    "## https://www.acmicpc.net/problem/2606"
   ]
  },
  {
   "cell_type": "code",
   "execution_count": null,
   "id": "942342b1",
   "metadata": {},
   "outputs": [],
   "source": [
    "V = int(input())\n",
    "\n",
    "graph = [[False] * (V + 1) for _ in range(V + 1)]\n",
    "\n",
    "N = int(input())\n",
    "\n",
    "for _ in range(N):\n",
    "    a, b = map(int, input().split())\n",
    "    graph[a][b] = graph[b][a] = True\n",
    "    \n",
    "visited = list()\n",
    "will_visit = list()\n",
    "\n",
    "def bfs(graph, start):\n",
    "    will_visit.append(start)\n",
    "    cnt = 0\n",
    "    while will_visit:\n",
    "        node = will_visit.pop(0)\n",
    "        \n",
    "        if node not in visited:\n",
    "            visited.append(node)\n",
    "            cnt += 1\n",
    "            for index in range(1, V+1):\n",
    "                if graph[node][index] == True:\n",
    "                    will_visit.append(index)\n",
    "    \n",
    "    return cnt\n",
    "\n",
    "print(bfs(graph, 1)-1)"
   ]
  },
  {
   "cell_type": "code",
   "execution_count": 4,
   "id": "151a0672",
   "metadata": {},
   "outputs": [
    {
     "data": {
      "text/plain": [
       "[1]"
      ]
     },
     "execution_count": 4,
     "metadata": {},
     "output_type": "execute_result"
    }
   ],
   "source": [
    "visited"
   ]
  },
  {
   "cell_type": "code",
   "execution_count": null,
   "id": "8653a3cf",
   "metadata": {},
   "outputs": [],
   "source": []
  }
 ],
 "metadata": {
  "kernelspec": {
   "display_name": "Python 3 (ipykernel)",
   "language": "python",
   "name": "python3"
  },
  "language_info": {
   "codemirror_mode": {
    "name": "ipython",
    "version": 3
   },
   "file_extension": ".py",
   "mimetype": "text/x-python",
   "name": "python",
   "nbconvert_exporter": "python",
   "pygments_lexer": "ipython3",
   "version": "3.9.13"
  }
 },
 "nbformat": 4,
 "nbformat_minor": 5
}
