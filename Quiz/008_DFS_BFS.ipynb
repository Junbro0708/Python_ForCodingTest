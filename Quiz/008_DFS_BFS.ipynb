{
 "cells": [
  {
   "cell_type": "code",
   "execution_count": 26,
   "id": "f3f9181c",
   "metadata": {},
   "outputs": [
    {
     "name": "stdout",
     "output_type": "stream",
     "text": [
      "4 5 1\n",
      "1 2\n",
      "1 3\n",
      "1 4\n",
      "2 4\n",
      "3 4\n",
      "1 2 4 3\n",
      "1 2 3 4\n"
     ]
    }
   ],
   "source": [
    "N, M, V = map(int, input().split())\n",
    "\n",
    "graph = [[False] * (N+1) for _ in range(N+1)]\n",
    "\n",
    "for _ in range(M):\n",
    "    a, b = map(int, input().split())\n",
    "    graph[a][b] = True\n",
    "    graph[b][a] = True\n",
    "    \n",
    "visited_dfs = list()\n",
    "visited_bfs = list()\n",
    "    \n",
    "def dfs(start):\n",
    "    visit_node = list()\n",
    "    \n",
    "    visit_node.append(start)\n",
    "    \n",
    "    while visit_node:\n",
    "        node = visit_node.pop()\n",
    "        \n",
    "        if node not in visited_dfs:\n",
    "            visited_dfs.append(node)\n",
    "            for i in range(N, 0, -1):\n",
    "                if graph[node][i] == True:\n",
    "                    visit_node.append(i)\n",
    "                    \n",
    "def bfs(start):\n",
    "    visit_node = list()\n",
    "    \n",
    "    visit_node.append(start)\n",
    "    \n",
    "    while visit_node:\n",
    "        node = visit_node.pop(0)\n",
    "        \n",
    "        if node not in visited_bfs:\n",
    "            visited_bfs.append(node)\n",
    "            for i in range(0, N+1):\n",
    "                if graph[node][i] == True:\n",
    "                    visit_node.append(i)\n",
    "\n",
    "dfs(V)\n",
    "bfs(V)\n",
    "print(' '.join(str(i) for i in visited_dfs))\n",
    "print(' '.join(str(i) for i in visited_bfs))"
   ]
  },
  {
   "cell_type": "code",
   "execution_count": null,
   "id": "5f0b9993",
   "metadata": {},
   "outputs": [],
   "source": []
  }
 ],
 "metadata": {
  "kernelspec": {
   "display_name": "Python 3 (ipykernel)",
   "language": "python",
   "name": "python3"
  },
  "language_info": {
   "codemirror_mode": {
    "name": "ipython",
    "version": 3
   },
   "file_extension": ".py",
   "mimetype": "text/x-python",
   "name": "python",
   "nbconvert_exporter": "python",
   "pygments_lexer": "ipython3",
   "version": "3.9.13"
  }
 },
 "nbformat": 4,
 "nbformat_minor": 5
}
