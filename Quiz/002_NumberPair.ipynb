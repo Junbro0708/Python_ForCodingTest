{
 "cells": [
  {
   "cell_type": "code",
   "execution_count": 29,
   "id": "b2b376c9",
   "metadata": {},
   "outputs": [
    {
     "data": {
      "text/plain": [
       "'552'"
      ]
     },
     "execution_count": 29,
     "metadata": {},
     "output_type": "execute_result"
    }
   ],
   "source": [
    "def solution(X, Y):\n",
    "    answer = ''\n",
    "    for i in range(0, len(X)):\n",
    "        if X[i] in Y:\n",
    "            answer += X[i]\n",
    "            Y = Y.replace(X[i], '' , 1)\n",
    "            \n",
    "    if answer == '':\n",
    "        return '-1'\n",
    "    else:\n",
    "        return str(int(''.join(sorted(answer, reverse=True))))\n",
    "\n",
    "solution('12321', '42531')\n",
    "solution('5525', '1255')"
   ]
  },
  {
   "cell_type": "code",
   "execution_count": 67,
   "id": "306514e1",
   "metadata": {},
   "outputs": [
    {
     "data": {
      "text/plain": [
       "'0'"
      ]
     },
     "execution_count": 67,
     "metadata": {},
     "output_type": "execute_result"
    }
   ],
   "source": [
    "def solution(X, Y):\n",
    "    answer = ''\n",
    "    dict_X = {}\n",
    "    dict_Y = {}\n",
    "    \n",
    "    for i in range(0, 10):\n",
    "        dict_X[i] = 0\n",
    "        dict_Y[i] = 0\n",
    "    \n",
    "    for i in range(0, len(X)):\n",
    "        dict_X[int(X[i])] += 1\n",
    "    \n",
    "    for i in range(0, len(Y)):\n",
    "        dict_Y[int(Y[i])] += 1\n",
    "        \n",
    "    for i in range(9, -1, -1):\n",
    "        if dict_X[i] > 0 and dict_Y[i] > 0:\n",
    "            answer += str(i) * min(dict_X[i], dict_Y[i])\n",
    "    \n",
    "    if len(answer) == 0:\n",
    "        return '-1'\n",
    "    elif answer[0] == '0':\n",
    "        return '0'\n",
    "    \n",
    "    \n",
    "    return answer\n",
    "\n",
    "solution('100', '203045')"
   ]
  },
  {
   "cell_type": "code",
   "execution_count": null,
   "id": "4c08e6d6",
   "metadata": {},
   "outputs": [],
   "source": []
  }
 ],
 "metadata": {
  "kernelspec": {
   "display_name": "Python 3 (ipykernel)",
   "language": "python",
   "name": "python3"
  },
  "language_info": {
   "codemirror_mode": {
    "name": "ipython",
    "version": 3
   },
   "file_extension": ".py",
   "mimetype": "text/x-python",
   "name": "python",
   "nbconvert_exporter": "python",
   "pygments_lexer": "ipython3",
   "version": "3.9.13"
  }
 },
 "nbformat": 4,
 "nbformat_minor": 5
}
