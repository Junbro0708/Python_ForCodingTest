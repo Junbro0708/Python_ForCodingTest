{
 "cells": [
  {
   "cell_type": "code",
   "execution_count": null,
   "id": "53cbf5e6",
   "metadata": {},
   "outputs": [],
   "source": [
    "## 백준 10816\n",
    "## https://www.acmicpc.net/problem/10816"
   ]
  },
  {
   "cell_type": "code",
   "execution_count": 7,
   "id": "19f24bcd",
   "metadata": {},
   "outputs": [
    {
     "name": "stdout",
     "output_type": "stream",
     "text": [
      "10\n",
      "6 3 2 10 10 10 -10 -10 7 3\n",
      "8\n",
      "10 9 -5 2 3 4 5 -10\n",
      "3 0 0 1 2 0 0 2 "
     ]
    }
   ],
   "source": [
    "N = int(input())\n",
    "N_list = list(map(int, input().split(' ')))\n",
    "M = int(input())\n",
    "M_list = list(map(int, input().split(' ')))\n",
    "\n",
    "dict_N = {}\n",
    "\n",
    "for item in N_list:\n",
    "    if item in dict_N:\n",
    "        dict_N[item] += 1\n",
    "    else:\n",
    "        dict_N[item] = 1\n",
    "\n",
    "for item in M_list:\n",
    "    if item in dict_N:\n",
    "        print(dict_N[item], end=' ')\n",
    "    else:\n",
    "        print(0, end=' ')\n",
    "    "
   ]
  },
  {
   "cell_type": "code",
   "execution_count": null,
   "id": "2d0d01a8",
   "metadata": {},
   "outputs": [],
   "source": []
  }
 ],
 "metadata": {
  "kernelspec": {
   "display_name": "Python 3 (ipykernel)",
   "language": "python",
   "name": "python3"
  },
  "language_info": {
   "codemirror_mode": {
    "name": "ipython",
    "version": 3
   },
   "file_extension": ".py",
   "mimetype": "text/x-python",
   "name": "python",
   "nbconvert_exporter": "python",
   "pygments_lexer": "ipython3",
   "version": "3.9.13"
  }
 },
 "nbformat": 4,
 "nbformat_minor": 5
}
