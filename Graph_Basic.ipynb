{
 "cells": [
  {
   "cell_type": "markdown",
   "id": "0f1c379b",
   "metadata": {},
   "source": [
    "## 그래프란?\n",
    "\n",
    "- 현실 세계의 일을 정점(노드)와 간선으로 이루어진 일종의 자료구조\n",
    "    - 집에서 회사로 가는 경로\n",
    "    - 옷을 입을 수 있는 경우의 수\n",
    "    \n",
    "### 그래프 종류\n",
    "\n",
    "1. 무방향 그래프\n",
    "    - 방향이 없는 그래프\n",
    "    - 방향이 없어 양방향으로 갈 수 있음\n",
    "\n",
    "1. 방향 그래프\n",
    "    - 간선에 방향이 있는 그래프\n",
    "    - 방향이 있어 화살표로 표기\n",
    "    - 양방향으로 갈 수 없로 일방향임\n",
    "    \n",
    "1. 가중치 그래프\n",
    "    - 간선에 비용 또는 가중치가 할당되어 있는 그래프\n",
    "    - 보통 적은 비용이 나오는 경로를 판단할 때 활용\n",
    "    \n",
    "1. 사이클\n",
    "    - 단순 경로의 시작 노드와 끝 노드가 같은 그래프\n",
    "    \n",
    "1. 완전 그래프\n",
    "    - 그래프의 모든 노드가 서로 연결되어 있는 그래프\n",
    "    \n",
    "### 그래프와 트리의 차이점\n",
    "\n",
    "- 트리는 그래프에 속하는 특별한 종류라고 볼 수 있음\n",
    "- 트리는 방향성이 있는 비순환 그래프\n",
    "- 트리는 루트 노드가 존재하는게 일반적\n",
    "- 트리는 부모 자식 관계가 존재함"
   ]
  },
  {
   "cell_type": "code",
   "execution_count": null,
   "id": "e1599fc0",
   "metadata": {},
   "outputs": [],
   "source": []
  }
 ],
 "metadata": {
  "kernelspec": {
   "display_name": "Python 3 (ipykernel)",
   "language": "python",
   "name": "python3"
  },
  "language_info": {
   "codemirror_mode": {
    "name": "ipython",
    "version": 3
   },
   "file_extension": ".py",
   "mimetype": "text/x-python",
   "name": "python",
   "nbconvert_exporter": "python",
   "pygments_lexer": "ipython3",
   "version": "3.9.13"
  }
 },
 "nbformat": 4,
 "nbformat_minor": 5
}
