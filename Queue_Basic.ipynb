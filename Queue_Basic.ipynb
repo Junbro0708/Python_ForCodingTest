{
 "cells": [
  {
   "cell_type": "code",
   "execution_count": null,
   "id": "53ce00ae",
   "metadata": {},
   "outputs": [],
   "source": [
    "# 큐는 네트워크, 운영체제에서 많이 쓰임\n",
    "# 멀티태스킹을 위해서 프로세스 스케쥴링 방식을 구현하기 위해서 사용됨\n",
    "# 가장 먼저 넣은 데이터를 가장 먼저 꺼낼 수 있는 구조\n",
    "# FIFO or LILO 방식으로 스택과 꺼내는 순서가 반대"
   ]
  },
  {
   "cell_type": "code",
   "execution_count": 4,
   "id": "eb0440f7",
   "metadata": {},
   "outputs": [
    {
     "data": {
      "text/plain": [
       "2"
      ]
     },
     "execution_count": 4,
     "metadata": {},
     "output_type": "execute_result"
    }
   ],
   "source": [
    "import queue\n",
    "\n",
    "data_queue = queue.Queue() # FIFO Queue\n",
    "data_queue.put(2)\n",
    "data_queue.get()"
   ]
  },
  {
   "cell_type": "code",
   "execution_count": 5,
   "id": "7812e80e",
   "metadata": {},
   "outputs": [
    {
     "data": {
      "text/plain": [
       "0"
      ]
     },
     "execution_count": 5,
     "metadata": {},
     "output_type": "execute_result"
    }
   ],
   "source": [
    "data_queue.qsize()"
   ]
  },
  {
   "cell_type": "code",
   "execution_count": 12,
   "id": "135dc6d9",
   "metadata": {
    "scrolled": true
   },
   "outputs": [
    {
     "data": {
      "text/plain": [
       "1"
      ]
     },
     "execution_count": 12,
     "metadata": {},
     "output_type": "execute_result"
    }
   ],
   "source": [
    "data_queue.put(\"fun\")\n",
    "data_queue.qsize()"
   ]
  },
  {
   "cell_type": "code",
   "execution_count": 3,
   "id": "a81ac7d8",
   "metadata": {},
   "outputs": [
    {
     "data": {
      "text/plain": [
       "2"
      ]
     },
     "execution_count": 3,
     "metadata": {},
     "output_type": "execute_result"
    }
   ],
   "source": [
    "import queue\n",
    "data_Lifo = queue.LifoQueue() # LIFO Queue\n",
    "data_Lifo.put(\"funcoding\")\n",
    "data_Lifo.put(1)\n",
    "data_Lifo.qsize()"
   ]
  },
  {
   "cell_type": "code",
   "execution_count": 4,
   "id": "5498424f",
   "metadata": {},
   "outputs": [
    {
     "data": {
      "text/plain": [
       "1"
      ]
     },
     "execution_count": 4,
     "metadata": {},
     "output_type": "execute_result"
    }
   ],
   "source": [
    "data_Lifo.get()"
   ]
  },
  {
   "cell_type": "code",
   "execution_count": 5,
   "id": "42042194",
   "metadata": {},
   "outputs": [
    {
     "data": {
      "text/plain": [
       "'funcoding'"
      ]
     },
     "execution_count": 5,
     "metadata": {},
     "output_type": "execute_result"
    }
   ],
   "source": [
    "data_Lifo.get()"
   ]
  },
  {
   "cell_type": "code",
   "execution_count": 6,
   "id": "709eabdd",
   "metadata": {},
   "outputs": [
    {
     "data": {
      "text/plain": [
       "3"
      ]
     },
     "execution_count": 6,
     "metadata": {},
     "output_type": "execute_result"
    }
   ],
   "source": [
    "data_Prior = queue.PriorityQueue()\n",
    "data_Prior.put((10, \"Korea\"))\n",
    "data_Prior.put((5, 1))\n",
    "data_Prior.put((3, \"China\"))\n",
    "data_Prior.qsize()"
   ]
  },
  {
   "cell_type": "code",
   "execution_count": 7,
   "id": "d73f676d",
   "metadata": {},
   "outputs": [
    {
     "data": {
      "text/plain": [
       "(3, 'China')"
      ]
     },
     "execution_count": 7,
     "metadata": {},
     "output_type": "execute_result"
    }
   ],
   "source": [
    "data_Prior.get()"
   ]
  },
  {
   "cell_type": "code",
   "execution_count": 8,
   "id": "8fdc399b",
   "metadata": {},
   "outputs": [
    {
     "data": {
      "text/plain": [
       "5"
      ]
     },
     "execution_count": 8,
     "metadata": {},
     "output_type": "execute_result"
    }
   ],
   "source": [
    "data_Prior.get()[0]"
   ]
  },
  {
   "cell_type": "code",
   "execution_count": 9,
   "id": "45bdf2ca",
   "metadata": {},
   "outputs": [
    {
     "data": {
      "text/plain": [
       "'Korea'"
      ]
     },
     "execution_count": 9,
     "metadata": {},
     "output_type": "execute_result"
    }
   ],
   "source": [
    "data_Prior.get()[1]"
   ]
  },
  {
   "cell_type": "code",
   "execution_count": 17,
   "id": "7ca08adb",
   "metadata": {},
   "outputs": [],
   "source": [
    "queue_list = list()\n",
    "\n",
    "def enqueue(data):\n",
    "    queue_list().append(data)\n",
    "def dequeue():\n",
    "    data = queue_list[0]\n",
    "    del queue_list[0]\n",
    "    return data\n",
    "\n",
    "for i in range(10):\n",
    "    queue_list.append(i)"
   ]
  },
  {
   "cell_type": "code",
   "execution_count": 20,
   "id": "6d3d84fc",
   "metadata": {},
   "outputs": [
    {
     "data": {
      "text/plain": [
       "1"
      ]
     },
     "execution_count": 20,
     "metadata": {},
     "output_type": "execute_result"
    }
   ],
   "source": [
    "dequeue()"
   ]
  },
  {
   "cell_type": "code",
   "execution_count": 21,
   "id": "707adb9c",
   "metadata": {},
   "outputs": [
    {
     "data": {
      "text/plain": [
       "[2, 3, 4, 5, 6, 7, 8, 9]"
      ]
     },
     "execution_count": 21,
     "metadata": {},
     "output_type": "execute_result"
    }
   ],
   "source": [
    "queue_list"
   ]
  },
  {
   "cell_type": "code",
   "execution_count": null,
   "id": "d1744c69",
   "metadata": {},
   "outputs": [],
   "source": []
  }
 ],
 "metadata": {
  "kernelspec": {
   "display_name": "Python 3 (ipykernel)",
   "language": "python",
   "name": "python3"
  },
  "language_info": {
   "codemirror_mode": {
    "name": "ipython",
    "version": 3
   },
   "file_extension": ".py",
   "mimetype": "text/x-python",
   "name": "python",
   "nbconvert_exporter": "python",
   "pygments_lexer": "ipython3",
   "version": "3.9.13"
  }
 },
 "nbformat": 4,
 "nbformat_minor": 5
}
