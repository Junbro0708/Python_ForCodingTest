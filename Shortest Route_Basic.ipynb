{
 "cells": [
  {
   "cell_type": "markdown",
   "id": "d697d3e8",
   "metadata": {},
   "source": [
    "## 최단 경로란?\n",
    "\n",
    "- 두 노드를 잇는 가장 짧은 경로를 구하는 문제\n",
    "- 가중치 그래프에서 간선의 가중치 합이 최소가 되도록 하는 문제\n",
    "\n",
    "### 최단 경로 문제 종류\n",
    "\n",
    "1. 단일 출발 및 단일 도착\n",
    "    - 특정한 두 노드를 선택한 후에 가장 짧은 경로를 찾는 문제\n",
    "1. 단일 출발 최단 경로 문제\n",
    "    - 특정한 노드에서 출발하여 그래프 내 모두 다른 노드들 사이에서 최단 경로를 찾는 문제\n",
    "1. 전체 쌍 최단 경로\n",
    "    - 그래프 간의 모든 노드들에 대한 최단 경로를 찾는 문제\n",
    "    \n",
    "### 다익스트라 알고리즘\n",
    "   - 최단 경로 문제 중에 가장 유명한 알고리즘\n",
    "   - 최단 경로 문제 종류 중, 2번 유형에 해당\n",
    "   1. 첫번째 정점을 기준으로, 연결되어 있는 정점을 추가해가면서 최단 거리를 갱신 (bfs와 유사)\n",
    "   1. 우선순위 큐를 사용하여 구현\n",
    "    \n",
    "### 다익스트라 알고리즘 로직\n",
    "   1. 첫 정점의 거리는 0으로 지정하고 나머지는 inf로 지정\n",
    "   1. 우선 순위 큐에 첫 정점만 넣음\n",
    "   1. 인접한 각 정점까지의 거리를 비교\n",
    "   1. 우선순위 큐에 노드가 없을때까지 비교\n",
    "\n",
    "### 우선순위 큐 장점\n",
    "   1. 가장 짧은 거리의 노드를 먼저 계산\n",
    "   1. 더 긴 거리로 계산된 루트를 스킵할 수 있음"
   ]
  },
  {
   "cell_type": "code",
   "execution_count": 2,
   "id": "9a14c4ca",
   "metadata": {},
   "outputs": [],
   "source": [
    "mygraph = {\n",
    "    'A': {'B':8, 'C':1, 'D':2},\n",
    "    'B': {},\n",
    "    'C': {'B':5, 'D':2},\n",
    "    'D': {'E':3, 'F':5},\n",
    "    'E': {'F':1},\n",
    "    'F': {'A':5}\n",
    "}"
   ]
  },
  {
   "cell_type": "code",
   "execution_count": 6,
   "id": "4ab1f0e1",
   "metadata": {},
   "outputs": [
    {
     "data": {
      "text/plain": [
       "{'A': 0, 'B': 6, 'C': 1, 'D': 2, 'E': 5, 'F': 6}"
      ]
     },
     "execution_count": 6,
     "metadata": {},
     "output_type": "execute_result"
    }
   ],
   "source": [
    "import heapq\n",
    "\n",
    "def dijkstra(graph, start):\n",
    "    distances = {node: float('inf') for node in graph}\n",
    "    distances[start] = 0\n",
    "    queue = []\n",
    "    \n",
    "    heapq.heappush(queue, [distances[start], start])\n",
    "    \n",
    "    while queue:\n",
    "        current_distance, current_node = heapq.heappop(queue)\n",
    "        \n",
    "        if distances[current_node] < current_distance:\n",
    "            continue\n",
    "        \n",
    "        for adjacent, weight in graph[current_node].items():\n",
    "            distance = current_distance + weight\n",
    "            \n",
    "            if distance < distances[adjacent]:\n",
    "                distances[adjacent] = distance\n",
    "                heapq.heappush(queue, [distance, adjacent])\n",
    "    \n",
    "    return distances\n",
    "\n",
    "dijkstra(mygraph, 'A')"
   ]
  },
  {
   "cell_type": "code",
   "execution_count": null,
   "id": "cbbe2001",
   "metadata": {},
   "outputs": [],
   "source": []
  }
 ],
 "metadata": {
  "kernelspec": {
   "display_name": "Python 3 (ipykernel)",
   "language": "python",
   "name": "python3"
  },
  "language_info": {
   "codemirror_mode": {
    "name": "ipython",
    "version": 3
   },
   "file_extension": ".py",
   "mimetype": "text/x-python",
   "name": "python",
   "nbconvert_exporter": "python",
   "pygments_lexer": "ipython3",
   "version": "3.9.13"
  }
 },
 "nbformat": 4,
 "nbformat_minor": 5
}
