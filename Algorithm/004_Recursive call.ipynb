{
 "cells": [
  {
   "cell_type": "markdown",
   "id": "f4432d50",
   "metadata": {},
   "source": [
    "### 재귀 용법 (Recursive call)\n",
    "\n",
    "- 고급 정렬 알고리즘을 위해 사용됨\n",
    "- 함수 안에 동일한 함수를 호출하는 형태임"
   ]
  },
  {
   "cell_type": "code",
   "execution_count": 5,
   "id": "854ca6b7",
   "metadata": {},
   "outputs": [],
   "source": [
    "# 간단한 재귀용법으로 팩토리얼 함수 만들기\n",
    "\n",
    "def factorial(data):\n",
    "    if data > 1:\n",
    "        return data * factorial(data-1)\n",
    "    else:\n",
    "        return data"
   ]
  },
  {
   "cell_type": "code",
   "execution_count": 6,
   "id": "5ebf8197",
   "metadata": {},
   "outputs": [
    {
     "data": {
      "text/plain": [
       "24"
      ]
     },
     "execution_count": 6,
     "metadata": {},
     "output_type": "execute_result"
    }
   ],
   "source": [
    "factorial(4)"
   ]
  },
  {
   "cell_type": "code",
   "execution_count": 22,
   "id": "ffdbc589",
   "metadata": {},
   "outputs": [
    {
     "name": "stdout",
     "output_type": "stream",
     "text": [
      "[53, 45, 44, 66, 6, 82, 72, 9, 73, 2]\n"
     ]
    },
    {
     "data": {
      "text/plain": [
       "452"
      ]
     },
     "execution_count": 22,
     "metadata": {},
     "output_type": "execute_result"
    }
   ],
   "source": [
    "import random\n",
    "\n",
    "array = random.sample(range(0, 100), 10)\n",
    "\n",
    "def sum_List(array, num=0):\n",
    "    num += array.pop()\n",
    "    \n",
    "    if len(array) < 1:\n",
    "        return num\n",
    "    \n",
    "    return sum_List(array, num)\n",
    "\n",
    "print(array)\n",
    "sum_List(array)"
   ]
  },
  {
   "cell_type": "code",
   "execution_count": 23,
   "id": "542d3b22",
   "metadata": {},
   "outputs": [],
   "source": [
    "def palindrom(str):\n",
    "    if len(str) <= 1:\n",
    "        return True\n",
    "    \n",
    "    if str[0] == str[-1]:\n",
    "        return palindrom(str[1:-1])\n",
    "    else:\n",
    "        return False"
   ]
  },
  {
   "cell_type": "code",
   "execution_count": 25,
   "id": "ff264f2a",
   "metadata": {},
   "outputs": [
    {
     "data": {
      "text/plain": [
       "False"
      ]
     },
     "execution_count": 25,
     "metadata": {},
     "output_type": "execute_result"
    }
   ],
   "source": [
    "palindrom('eeveed')"
   ]
  },
  {
   "cell_type": "code",
   "execution_count": 30,
   "id": "87b4df73",
   "metadata": {},
   "outputs": [],
   "source": [
    "def func(num):\n",
    "    print(num)\n",
    "    if num == 1:\n",
    "        return num\n",
    "    \n",
    "    if num % 2 == 1:\n",
    "        return func(3*num + 1)\n",
    "    else:\n",
    "        return func(num // 2)"
   ]
  },
  {
   "cell_type": "code",
   "execution_count": 31,
   "id": "2cf8040e",
   "metadata": {},
   "outputs": [
    {
     "name": "stdout",
     "output_type": "stream",
     "text": [
      "3\n",
      "10\n",
      "5\n",
      "16\n",
      "8\n",
      "4\n",
      "2\n",
      "1\n"
     ]
    },
    {
     "data": {
      "text/plain": [
       "1"
      ]
     },
     "execution_count": 31,
     "metadata": {},
     "output_type": "execute_result"
    }
   ],
   "source": [
    "func(3)"
   ]
  },
  {
   "cell_type": "code",
   "execution_count": 32,
   "id": "2178a779",
   "metadata": {},
   "outputs": [],
   "source": [
    "def sol(num):\n",
    "    if num == 1:\n",
    "        return 1\n",
    "    elif num == 2:\n",
    "        return 2\n",
    "    elif num == 3:\n",
    "        return 4\n",
    "    \n",
    "    return sol(num - 1) + sol(num - 2) + sol(num - 3)"
   ]
  },
  {
   "cell_type": "code",
   "execution_count": 34,
   "id": "65e00936",
   "metadata": {},
   "outputs": [
    {
     "data": {
      "text/plain": [
       "13"
      ]
     },
     "execution_count": 34,
     "metadata": {},
     "output_type": "execute_result"
    }
   ],
   "source": [
    "sol(5)"
   ]
  },
  {
   "cell_type": "code",
   "execution_count": null,
   "id": "a0281e53",
   "metadata": {},
   "outputs": [],
   "source": []
  }
 ],
 "metadata": {
  "kernelspec": {
   "display_name": "Python 3 (ipykernel)",
   "language": "python",
   "name": "python3"
  },
  "language_info": {
   "codemirror_mode": {
    "name": "ipython",
    "version": 3
   },
   "file_extension": ".py",
   "mimetype": "text/x-python",
   "name": "python",
   "nbconvert_exporter": "python",
   "pygments_lexer": "ipython3",
   "version": "3.9.13"
  }
 },
 "nbformat": 4,
 "nbformat_minor": 5
}
