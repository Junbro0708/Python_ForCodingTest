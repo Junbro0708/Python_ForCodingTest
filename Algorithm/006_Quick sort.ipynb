{
 "cells": [
  {
   "cell_type": "markdown",
   "id": "f76d4570",
   "metadata": {},
   "source": [
    "### 퀵 정렬 (Quick sort)\n",
    "\n",
    "#### 정렬 알고리즘의 꽃\n",
    "#### 보통의 경우에 빠름\n",
    "#### 피봇을 두고 왼쪽 오른쪽으로 작은 값, 큰 값으로 나누고 그 후에 왼쪽 + 피봇 + 오른쪽을 리턴함"
   ]
  },
  {
   "cell_type": "code",
   "execution_count": 5,
   "id": "0abfa552",
   "metadata": {},
   "outputs": [],
   "source": [
    "def quick_sort(data):\n",
    "    if len(data) <= 1:\n",
    "        return data\n",
    "    \n",
    "    left, right = list(), list()\n",
    "    pivot = data[0]\n",
    "    \n",
    "    for index in range(1, len(data)):\n",
    "        if pivot > data[index]:\n",
    "            left.append(data[index])\n",
    "        else:\n",
    "            right.append(data[index])\n",
    "    \n",
    "    return quick_sort(left) + [pivot] + quick_sort(right)\n",
    "\n",
    "## 더 간결하게 바꾸자면\n",
    "\n",
    "def quick_sort2(data):\n",
    "    if len(data) <= 1:\n",
    "        return data\n",
    "    \n",
    "    pivot = data[0]\n",
    "    \n",
    "    left = [item for item in data[1:] if pivot > item]\n",
    "    right = [item for item in data[1:] if pivot <= item]\n",
    "    \n",
    "    return quick_sort2(left) + [pivot] + quick_sort2(right)"
   ]
  },
  {
   "cell_type": "code",
   "execution_count": 3,
   "id": "a56dbdb1",
   "metadata": {},
   "outputs": [
    {
     "data": {
      "text/plain": [
       "[9, 98, 70, 69, 94, 29, 27, 47, 80, 84]"
      ]
     },
     "execution_count": 3,
     "metadata": {},
     "output_type": "execute_result"
    }
   ],
   "source": [
    "import random\n",
    "\n",
    "data_list = random.sample(range(100), 10)\n",
    "data_list"
   ]
  },
  {
   "cell_type": "code",
   "execution_count": 6,
   "id": "73210421",
   "metadata": {},
   "outputs": [
    {
     "data": {
      "text/plain": [
       "[9, 27, 29, 47, 69, 70, 80, 84, 94, 98]"
      ]
     },
     "execution_count": 6,
     "metadata": {},
     "output_type": "execute_result"
    }
   ],
   "source": [
    "quick_sort(data_list)"
   ]
  },
  {
   "cell_type": "code",
   "execution_count": 7,
   "id": "c31520f2",
   "metadata": {},
   "outputs": [
    {
     "data": {
      "text/plain": [
       "[9, 27, 29, 47, 69, 70, 80, 84, 94, 98]"
      ]
     },
     "execution_count": 7,
     "metadata": {},
     "output_type": "execute_result"
    }
   ],
   "source": [
    "quick_sort2(data_list)"
   ]
  },
  {
   "cell_type": "code",
   "execution_count": null,
   "id": "b1a6fcd2",
   "metadata": {},
   "outputs": [],
   "source": []
  }
 ],
 "metadata": {
  "kernelspec": {
   "display_name": "Python 3 (ipykernel)",
   "language": "python",
   "name": "python3"
  },
  "language_info": {
   "codemirror_mode": {
    "name": "ipython",
    "version": 3
   },
   "file_extension": ".py",
   "mimetype": "text/x-python",
   "name": "python",
   "nbconvert_exporter": "python",
   "pygments_lexer": "ipython3",
   "version": "3.9.13"
  }
 },
 "nbformat": 4,
 "nbformat_minor": 5
}
