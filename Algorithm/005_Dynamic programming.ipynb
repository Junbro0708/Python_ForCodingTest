{
 "cells": [
  {
   "cell_type": "markdown",
   "id": "c20fc40a",
   "metadata": {},
   "source": [
    "### 피보나치를 동적 계획법으로 작성해보기"
   ]
  },
  {
   "cell_type": "code",
   "execution_count": 12,
   "id": "f1af0004",
   "metadata": {},
   "outputs": [],
   "source": [
    "# (1) 재귀용법으로 작성해보기\n",
    "\n",
    "def fibo(num):\n",
    "    if num <= 1:\n",
    "        return num\n",
    "    return fibo(num - 1) + fibo(num - 2)\n",
    "\n",
    "# (2) DP로 작성해보기\n",
    "\n",
    "def fibo_dp(num):\n",
    "    cache = [0 for index in range(num + 1)]\n",
    "    cache[0] = 0\n",
    "    cache[1] = 1\n",
    "\n",
    "    for index in range(2, num + 1):\n",
    "        cache[index] = cache[index - 1] + cache[index - 2]\n",
    "        print(cache[index])\n",
    "    return cache[num]"
   ]
  },
  {
   "cell_type": "code",
   "execution_count": 13,
   "id": "7267f2af",
   "metadata": {},
   "outputs": [
    {
     "name": "stdout",
     "output_type": "stream",
     "text": [
      "1\n",
      "2\n",
      "3\n",
      "5\n",
      "8\n",
      "13\n",
      "21\n",
      "34\n",
      "55\n"
     ]
    },
    {
     "data": {
      "text/plain": [
       "55"
      ]
     },
     "execution_count": 13,
     "metadata": {},
     "output_type": "execute_result"
    }
   ],
   "source": [
    "fibo_dp(10)"
   ]
  },
  {
   "cell_type": "markdown",
   "id": "fcd9b46c",
   "metadata": {},
   "source": [
    "### 동적 계획법 연습 문제\n",
    "\n",
    "백준 11726번 2xn타일링 https://www.acmicpc.net/problem/11726"
   ]
  },
  {
   "cell_type": "code",
   "execution_count": 17,
   "id": "b369aca4",
   "metadata": {},
   "outputs": [
    {
     "data": {
      "text/plain": [
       "3"
      ]
     },
     "execution_count": 17,
     "metadata": {},
     "output_type": "execute_result"
    }
   ],
   "source": [
    "def solution(num):\n",
    "    cache = [0 for i in range(0, num + 1)]\n",
    "\n",
    "    cache[1] = 1\n",
    "    cache[2] = 2\n",
    "    \n",
    "    for index in range(3, num + 1):\n",
    "        cache[index] = cache[index - 1] + cache[index - 2]\n",
    "    return cache[num]\n",
    "\n",
    "solution(3)"
   ]
  },
  {
   "cell_type": "markdown",
   "id": "76f622a9",
   "metadata": {},
   "source": [
    "### 동적 계획법 연습 문제 (2)\n",
    "\n",
    "백준 9461번 파도반 수열 https://www.acmicpc.net/problem/9461"
   ]
  },
  {
   "cell_type": "code",
   "execution_count": 19,
   "id": "e58962c3",
   "metadata": {},
   "outputs": [],
   "source": [
    "def solution(num):\n",
    "    array = [0] * 101\n",
    "    \n",
    "    array[1] = 1\n",
    "    array[2] = 1\n",
    "    array[3] = 1\n",
    "    \n",
    "    for i in range(4, num + 1):\n",
    "        array[i] = array[i - 3] + array[i - 2]\n",
    "    return array[num]"
   ]
  },
  {
   "cell_type": "code",
   "execution_count": 22,
   "id": "f22aa61e",
   "metadata": {},
   "outputs": [
    {
     "data": {
      "text/plain": [
       "16"
      ]
     },
     "execution_count": 22,
     "metadata": {},
     "output_type": "execute_result"
    }
   ],
   "source": [
    "solution(12)"
   ]
  },
  {
   "cell_type": "code",
   "execution_count": 30,
   "id": "f39bbe77",
   "metadata": {},
   "outputs": [
    {
     "name": "stdout",
     "output_type": "stream",
     "text": [
      "2\n",
      "6\n",
      "3\n",
      "12\n",
      "16\n"
     ]
    }
   ],
   "source": [
    "# 백준 제출용\n",
    "\n",
    "array = [0] * 101 # 0으로 101개의 길이를 가진 배열 초기화\n",
    "    \n",
    "array[1] = 1\n",
    "array[2] = 1\n",
    "array[3] = 1\n",
    "    \n",
    "for i in range(4, 101):\n",
    "    array[i] = array[i - 3] + array[i - 2]\n",
    "    \n",
    "# 파이썬에서 입력을 받을 때에는 string 형식으로 받아서 형변환을 해주어야함\n",
    "nums = int(input())\n",
    "\n",
    "for i in range(0, nums):\n",
    "    temp = int(input())\n",
    "    print(array[temp])"
   ]
  },
  {
   "cell_type": "code",
   "execution_count": null,
   "id": "51403b0e",
   "metadata": {},
   "outputs": [],
   "source": []
  }
 ],
 "metadata": {
  "kernelspec": {
   "display_name": "Python 3 (ipykernel)",
   "language": "python",
   "name": "python3"
  },
  "language_info": {
   "codemirror_mode": {
    "name": "ipython",
    "version": 3
   },
   "file_extension": ".py",
   "mimetype": "text/x-python",
   "name": "python",
   "nbconvert_exporter": "python",
   "pygments_lexer": "ipython3",
   "version": "3.9.13"
  }
 },
 "nbformat": 4,
 "nbformat_minor": 5
}
