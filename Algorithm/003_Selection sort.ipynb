{
 "cells": [
  {
   "cell_type": "markdown",
   "id": "a5441ff9",
   "metadata": {},
   "source": [
    "#### 선택 정렬\n",
    "\n",
    "1. 최소값을 찾음\n",
    "1. 찾은 최소값을 데이터 맨 앞에 위치한 값과 바꿈\n",
    "1. 맨 앞의 위치를 뺀 나머지 데이터를 동일한 순서로 반복"
   ]
  },
  {
   "cell_type": "code",
   "execution_count": 3,
   "id": "12cfd104",
   "metadata": {},
   "outputs": [],
   "source": [
    "def selection(data):\n",
    "    for stand in range(len(data) - 1):\n",
    "        low = stand\n",
    "        for index in range(stand + 1, len(data)):\n",
    "            if data[low] > data[index]:\n",
    "                low = index\n",
    "        data[low], data[stand] = data[stand], data[low]\n",
    "    return data"
   ]
  },
  {
   "cell_type": "code",
   "execution_count": 4,
   "id": "7aea83e0",
   "metadata": {},
   "outputs": [
    {
     "data": {
      "text/plain": [
       "[2, 3, 7, 19, 20, 31, 43, 46, 47, 80]"
      ]
     },
     "execution_count": 4,
     "metadata": {},
     "output_type": "execute_result"
    }
   ],
   "source": [
    "import random\n",
    "\n",
    "array = random.sample(range(100), 10)\n",
    "selection(array)"
   ]
  },
  {
   "cell_type": "code",
   "execution_count": null,
   "id": "f257d7fc",
   "metadata": {},
   "outputs": [],
   "source": []
  }
 ],
 "metadata": {
  "kernelspec": {
   "display_name": "Python 3 (ipykernel)",
   "language": "python",
   "name": "python3"
  },
  "language_info": {
   "codemirror_mode": {
    "name": "ipython",
    "version": 3
   },
   "file_extension": ".py",
   "mimetype": "text/x-python",
   "name": "python",
   "nbconvert_exporter": "python",
   "pygments_lexer": "ipython3",
   "version": "3.9.13"
  }
 },
 "nbformat": 4,
 "nbformat_minor": 5
}
