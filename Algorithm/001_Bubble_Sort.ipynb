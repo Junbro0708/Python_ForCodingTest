{
 "cells": [
  {
   "cell_type": "markdown",
   "id": "f4f21c17",
   "metadata": {},
   "source": [
    "#### 버블 정렬 (Bubble Sort)\n",
    "\n",
    "##### 두 인접한 데이터를 비교한 후에, 앞에 있는 데이터가 뒤에 있는 데이터보다 크면 둘의 위치를 바꾸는 알고리즘\n",
    "\n",
    "<br><br>\n",
    "\n",
    "$$시간 복잡도 = O(n^2)$$\n",
    "\n",
    "<br><br>"
   ]
  },
  {
   "cell_type": "code",
   "execution_count": 12,
   "id": "c14b8072",
   "metadata": {},
   "outputs": [
    {
     "data": {
      "text/plain": [
       "[0,\n",
       " 1,\n",
       " 6,\n",
       " 7,\n",
       " 14,\n",
       " 16,\n",
       " 17,\n",
       " 18,\n",
       " 20,\n",
       " 22,\n",
       " 23,\n",
       " 25,\n",
       " 26,\n",
       " 28,\n",
       " 29,\n",
       " 30,\n",
       " 31,\n",
       " 32,\n",
       " 33,\n",
       " 34,\n",
       " 36,\n",
       " 37,\n",
       " 39,\n",
       " 42,\n",
       " 44,\n",
       " 47,\n",
       " 49,\n",
       " 52,\n",
       " 54,\n",
       " 57,\n",
       " 64,\n",
       " 66,\n",
       " 67,\n",
       " 68,\n",
       " 74,\n",
       " 75,\n",
       " 76,\n",
       " 78,\n",
       " 81,\n",
       " 83,\n",
       " 87,\n",
       " 88,\n",
       " 89,\n",
       " 90,\n",
       " 92,\n",
       " 93,\n",
       " 94,\n",
       " 95,\n",
       " 96,\n",
       " 99]"
      ]
     },
     "execution_count": 12,
     "metadata": {},
     "output_type": "execute_result"
    }
   ],
   "source": [
    "import random\n",
    "\n",
    "array = random.sample(range(100), 50)\n",
    "\n",
    "def bubblesort(array):\n",
    "    for index in range(len(array) - 1):\n",
    "        flag = False\n",
    "        for index2 in range(len(array) - index - 1):\n",
    "            if(array[index2] >= array[index2 + 1]):\n",
    "                array[index2 + 1], array[index2] = array[index2], array[index2 + 1]\n",
    "                flag = True\n",
    "        \n",
    "        if flag == False:\n",
    "            break\n",
    "    \n",
    "    return array\n",
    "\n",
    "bubblesort(array)\n"
   ]
  },
  {
   "cell_type": "code",
   "execution_count": null,
   "id": "b3d58197",
   "metadata": {},
   "outputs": [],
   "source": []
  }
 ],
 "metadata": {
  "kernelspec": {
   "display_name": "Python 3 (ipykernel)",
   "language": "python",
   "name": "python3"
  },
  "language_info": {
   "codemirror_mode": {
    "name": "ipython",
    "version": 3
   },
   "file_extension": ".py",
   "mimetype": "text/x-python",
   "name": "python",
   "nbconvert_exporter": "python",
   "pygments_lexer": "ipython3",
   "version": "3.9.13"
  }
 },
 "nbformat": 4,
 "nbformat_minor": 5
}
