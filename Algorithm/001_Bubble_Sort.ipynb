{
 "cells": [
  {
   "cell_type": "markdown",
   "id": "f4f21c17",
   "metadata": {},
   "source": [
    "#### 버블 정렬 (Bubble Sort)\n",
    "\n",
    "##### 두 인접한 데이터를 비교한 후에, 앞에 있는 데이터가 뒤에 있는 데이터보다 크면 둘의 위치를 바꾸는 알고리즘"
   ]
  },
  {
   "cell_type": "code",
   "execution_count": null,
   "id": "c14b8072",
   "metadata": {},
   "outputs": [],
   "source": []
  }
 ],
 "metadata": {
  "kernelspec": {
   "display_name": "Python 3 (ipykernel)",
   "language": "python",
   "name": "python3"
  },
  "language_info": {
   "codemirror_mode": {
    "name": "ipython",
    "version": 3
   },
   "file_extension": ".py",
   "mimetype": "text/x-python",
   "name": "python",
   "nbconvert_exporter": "python",
   "pygments_lexer": "ipython3",
   "version": "3.9.13"
  }
 },
 "nbformat": 4,
 "nbformat_minor": 5
}
