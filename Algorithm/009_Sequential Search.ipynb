{
 "cells": [
  {
   "cell_type": "markdown",
   "id": "1b356bc7",
   "metadata": {},
   "source": [
    "### 순차 탐색 (Sequential Search)\n",
    "\n",
    "- 데이터가 담겨있는 리스트를 하나씩 비교해서 찾는 것\n",
    "- 아주 간단한 방법"
   ]
  },
  {
   "cell_type": "code",
   "execution_count": 2,
   "id": "c7128c68",
   "metadata": {},
   "outputs": [
    {
     "data": {
      "text/plain": [
       "[84, 85, 27, 13, 29, 2, 100, 12, 97, 16]"
      ]
     },
     "execution_count": 2,
     "metadata": {},
     "output_type": "execute_result"
    }
   ],
   "source": [
    "import random\n",
    "\n",
    "data_list = list()\n",
    "\n",
    "for num in range(10):\n",
    "    data_list.append(random.randint(1, 100))\n",
    "    \n",
    "data_list"
   ]
  },
  {
   "cell_type": "code",
   "execution_count": 3,
   "id": "369cbcb9",
   "metadata": {},
   "outputs": [],
   "source": [
    "def sequential_search(d_list, data):\n",
    "    for index in range(len(d_list)):\n",
    "        if d_list[index] == data:\n",
    "            return index\n",
    "    return -1"
   ]
  },
  {
   "cell_type": "code",
   "execution_count": 5,
   "id": "a9a20162",
   "metadata": {},
   "outputs": [
    {
     "data": {
      "text/plain": [
       "6"
      ]
     },
     "execution_count": 5,
     "metadata": {},
     "output_type": "execute_result"
    }
   ],
   "source": [
    "sequential_search(data_list, 100)"
   ]
  },
  {
   "cell_type": "code",
   "execution_count": null,
   "id": "44826c20",
   "metadata": {},
   "outputs": [],
   "source": []
  }
 ],
 "metadata": {
  "kernelspec": {
   "display_name": "Python 3 (ipykernel)",
   "language": "python",
   "name": "python3"
  },
  "language_info": {
   "codemirror_mode": {
    "name": "ipython",
    "version": 3
   },
   "file_extension": ".py",
   "mimetype": "text/x-python",
   "name": "python",
   "nbconvert_exporter": "python",
   "pygments_lexer": "ipython3",
   "version": "3.9.13"
  }
 },
 "nbformat": 4,
 "nbformat_minor": 5
}
