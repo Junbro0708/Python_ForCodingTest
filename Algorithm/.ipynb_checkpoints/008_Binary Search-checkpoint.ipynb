{
 "cells": [
  {
   "cell_type": "markdown",
   "id": "73450114",
   "metadata": {},
   "source": [
    "### 이진 탐색 (Binary Search)\n",
    "\n",
    "- 이진 탐색을 위한 조건\n",
    "    1. 정렬이 되어 있어야함\n",
    "    1. 1/2씩 나누어서 유무를 체크\n",
    "    \n",
    "#### 이진 탐색은 순차 탐색보다 훨씬 빠름"
   ]
  },
  {
   "cell_type": "code",
   "execution_count": null,
   "id": "f3bad1b6",
   "metadata": {},
   "outputs": [],
   "source": []
  }
 ],
 "metadata": {
  "kernelspec": {
   "display_name": "Python 3 (ipykernel)",
   "language": "python",
   "name": "python3"
  },
  "language_info": {
   "codemirror_mode": {
    "name": "ipython",
    "version": 3
   },
   "file_extension": ".py",
   "mimetype": "text/x-python",
   "name": "python",
   "nbconvert_exporter": "python",
   "pygments_lexer": "ipython3",
   "version": "3.9.13"
  }
 },
 "nbformat": 4,
 "nbformat_minor": 5
}
