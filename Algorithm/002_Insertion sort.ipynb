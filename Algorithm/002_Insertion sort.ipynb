{
 "cells": [
  {
   "cell_type": "markdown",
   "id": "6dcebcb1",
   "metadata": {},
   "source": [
    "#### 삽입정렬\n",
    "\n",
    "- 데이터를 특정한 위치에 삽입\n",
    "- 바로 앞 데이터를 비교한 다음 앞의 데이터가 더 크면, 그 앞의 데이터와 또 비교\n",
    "- 그 후에 앞의 데이터가 작거나 제일 앞에 있다면 그때 데이터를 삽입"
   ]
  },
  {
   "cell_type": "code",
   "execution_count": 3,
   "id": "40d6468d",
   "metadata": {},
   "outputs": [],
   "source": [
    "def insertion(array):\n",
    "    for index in range(len(array) - 1):\n",
    "        for index2 in range(index + 1, 0, -1):\n",
    "            if array[index2] < array[index2 - 1]:\n",
    "                array[index2], array[index2 - 1] = array[index2 - 1], array[index2]\n",
    "            else:\n",
    "                break\n",
    "    return array"
   ]
  },
  {
   "cell_type": "code",
   "execution_count": 4,
   "id": "0f63ce80",
   "metadata": {},
   "outputs": [
    {
     "data": {
      "text/plain": [
       "[2,\n",
       " 3,\n",
       " 4,\n",
       " 8,\n",
       " 9,\n",
       " 10,\n",
       " 13,\n",
       " 14,\n",
       " 15,\n",
       " 18,\n",
       " 19,\n",
       " 20,\n",
       " 21,\n",
       " 23,\n",
       " 28,\n",
       " 29,\n",
       " 30,\n",
       " 31,\n",
       " 33,\n",
       " 34,\n",
       " 35,\n",
       " 38,\n",
       " 40,\n",
       " 42,\n",
       " 43,\n",
       " 44,\n",
       " 46,\n",
       " 54,\n",
       " 58,\n",
       " 59,\n",
       " 60,\n",
       " 67,\n",
       " 68,\n",
       " 69,\n",
       " 70,\n",
       " 72,\n",
       " 73,\n",
       " 78,\n",
       " 79,\n",
       " 80,\n",
       " 82,\n",
       " 83,\n",
       " 88,\n",
       " 89,\n",
       " 90,\n",
       " 92,\n",
       " 93,\n",
       " 94,\n",
       " 95,\n",
       " 99]"
      ]
     },
     "execution_count": 4,
     "metadata": {},
     "output_type": "execute_result"
    }
   ],
   "source": [
    "import random\n",
    "\n",
    "array = random.sample(range(100), 50)\n",
    "insertion(array)"
   ]
  },
  {
   "cell_type": "code",
   "execution_count": null,
   "id": "11857e85",
   "metadata": {},
   "outputs": [],
   "source": []
  }
 ],
 "metadata": {
  "kernelspec": {
   "display_name": "Python 3 (ipykernel)",
   "language": "python",
   "name": "python3"
  },
  "language_info": {
   "codemirror_mode": {
    "name": "ipython",
    "version": 3
   },
   "file_extension": ".py",
   "mimetype": "text/x-python",
   "name": "python",
   "nbconvert_exporter": "python",
   "pygments_lexer": "ipython3",
   "version": "3.9.13"
  }
 },
 "nbformat": 4,
 "nbformat_minor": 5
}
