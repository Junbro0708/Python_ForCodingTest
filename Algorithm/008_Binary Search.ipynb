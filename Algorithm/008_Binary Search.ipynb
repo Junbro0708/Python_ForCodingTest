{
 "cells": [
  {
   "cell_type": "markdown",
   "id": "73450114",
   "metadata": {},
   "source": [
    "### 이진 탐색 (Binary Search)\n",
    "\n",
    "- 이진 탐색을 위한 조건\n",
    "    1. 정렬이 되어 있어야함\n",
    "    1. 1/2씩 나누어서 유무를 체크\n",
    "    \n",
    "#### 이진 탐색은 순차 탐색보다 훨씬 빠름"
   ]
  },
  {
   "cell_type": "code",
   "execution_count": 1,
   "id": "f3bad1b6",
   "metadata": {},
   "outputs": [],
   "source": [
    "def binary_search(data, search):\n",
    "    if len(data) == 1 and search == data[0]:\n",
    "        return True\n",
    "    if len(data) == 1 and search != data[0]:\n",
    "        return False\n",
    "    if len(data) == 0:\n",
    "        return False\n",
    "    \n",
    "    medium = len(data) // 2\n",
    "    if search == data[medium]:\n",
    "        return True\n",
    "    elif search > data[medium]:\n",
    "        return binary_search(data[medium:], search)\n",
    "    elif search <= data[medium]:\n",
    "        return binary_search(data[:medium], search)"
   ]
  },
  {
   "cell_type": "code",
   "execution_count": 2,
   "id": "6a6b3451",
   "metadata": {},
   "outputs": [
    {
     "data": {
      "text/plain": [
       "[54, 74, 44, 23, 92, 40, 71, 83, 43, 67]"
      ]
     },
     "execution_count": 2,
     "metadata": {},
     "output_type": "execute_result"
    }
   ],
   "source": [
    "import random\n",
    "data_list = random.sample(range(100), 10)\n",
    "data_list"
   ]
  },
  {
   "cell_type": "code",
   "execution_count": 4,
   "id": "8031e657",
   "metadata": {},
   "outputs": [
    {
     "data": {
      "text/plain": [
       "[23, 40, 43, 44, 54, 67, 71, 74, 83, 92]"
      ]
     },
     "execution_count": 4,
     "metadata": {},
     "output_type": "execute_result"
    }
   ],
   "source": [
    "data_list.sort()\n",
    "data_list"
   ]
  },
  {
   "cell_type": "code",
   "execution_count": 5,
   "id": "9df40fe5",
   "metadata": {},
   "outputs": [
    {
     "data": {
      "text/plain": [
       "True"
      ]
     },
     "execution_count": 5,
     "metadata": {},
     "output_type": "execute_result"
    }
   ],
   "source": [
    "binary_search(data_list, 71)"
   ]
  },
  {
   "cell_type": "code",
   "execution_count": null,
   "id": "48c4313a",
   "metadata": {},
   "outputs": [],
   "source": []
  }
 ],
 "metadata": {
  "kernelspec": {
   "display_name": "Python 3 (ipykernel)",
   "language": "python",
   "name": "python3"
  },
  "language_info": {
   "codemirror_mode": {
    "name": "ipython",
    "version": 3
   },
   "file_extension": ".py",
   "mimetype": "text/x-python",
   "name": "python",
   "nbconvert_exporter": "python",
   "pygments_lexer": "ipython3",
   "version": "3.9.13"
  }
 },
 "nbformat": 4,
 "nbformat_minor": 5
}
